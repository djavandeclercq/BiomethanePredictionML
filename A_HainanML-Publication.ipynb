{
 "cells": [
  {
   "cell_type": "markdown",
   "metadata": {},
   "source": [
    "# DATA VISUALIZATION, EXPLORATION, AND MACHINE LEARNING APPLIED TO PROJECT-LEVEL DATA: HAINAN PROJECT"
   ]
  },
  {
   "cell_type": "markdown",
   "metadata": {},
   "source": [
    "## Data preparation"
   ]
  },
  {
   "cell_type": "code",
   "execution_count": 295,
   "metadata": {
    "scrolled": true
   },
   "outputs": [
    {
     "name": "stderr",
     "output_type": "stream",
     "text": [
      "\n",
      "Attaching package: 'neuralnet'\n",
      "\n",
      "The following object is masked from 'package:dplyr':\n",
      "\n",
      "    compute\n",
      "\n"
     ]
    }
   ],
   "source": [
    "# Initialize packages\n",
    "library(DataCombine)\n",
    "library(reshape2)\n",
    "library(car)\n",
    "library(MASS)\n",
    "library(ggplot2)\n",
    "library(plotly)\n",
    "library(GGally)\n",
    "library(tidyverse)\n",
    "library(RcppRoll)\n",
    "library(psych)\n",
    "library(rpart)\n",
    "library(rpart.plot)\n",
    "library(randomForest)\n",
    "library(caret)\n",
    "library(purrr)\n",
    "library(broom)\n",
    "library(ranger)\n",
    "library(xgboost)\n",
    "library(elasticnet)\n",
    "library(penalized)\n",
    "library(bst)\n",
    "library(leaps)\n",
    "library(e1071)\n",
    "library(superpc)\n",
    "library(kernlab)\n",
    "library(pls)\n",
    "library(mboost)\n",
    "library(import)\n",
    "library(gridExtra)\n",
    "library(glmnet)\n",
    "library(doParallel)\n",
    "library(pdp)\n",
    "library(ggpubr)"
   ]
  },
  {
   "cell_type": "code",
   "execution_count": 6,
   "metadata": {},
   "outputs": [],
   "source": [
    "registerDoParallel(cores=4)"
   ]
  },
  {
   "cell_type": "code",
   "execution_count": 7,
   "metadata": {},
   "outputs": [],
   "source": [
    "# Set theme\n",
    "theme_set(theme_light())"
   ]
  },
  {
   "cell_type": "code",
   "execution_count": 8,
   "metadata": {},
   "outputs": [],
   "source": [
    "# Read in data file\n",
    "filename <- 'hainan3.csv'\n",
    "df <- read.csv(filename, na.strings=c(\"NA\",\"\"))\n",
    "\n",
    "# Convert variables to numeric\n",
    "df$Water_Aux <- as.numeric(df$Water_Aux)\n",
    "df$ProjectElectricityUse_Aux <- as.numeric(df$ProjectElectricityUse_Aux)\n",
    "df$FeCl_Aux <- as.numeric(df$FeCl_Aux)\n",
    "\n",
    "# Add a co-digested amount variable. This tells us how many co-digested substrates there were on \n",
    "# a given day\n",
    "df$codigestedAmount <- as.integer(rowSums(df[ , grepl( \"Input\" , names( df ) ) ] > 0))\n",
    "\n",
    "# Add a total waste input variable\n",
    "df <- mutate(df, total_Input = select(df, contains(\"Input\")) %>% rowSums(.))\n",
    "\n",
    "#Add cumulative variables (inputs) running sums\n",
    "df <- mutate(df,\n",
    "             cum_total_Input = cumsum(df$total_Input),\n",
    "             cum_PigManure_Input = cumsum(df$PigManure_Input),\n",
    "             cum_Cassava_Input = cumsum(df$Cassava_Input),\n",
    "             cum_FishWaste_Input = cumsum(df$FishWaste_Input),\n",
    "             cum_FoodWaste_Input = cumsum(df$FoodWaste_Input),\n",
    "             cum_MunFecalRes_Input = cumsum(df$MunFecalRes_Input),\n",
    "             cum_TeaWaste_Input = cumsum(df$TeaWaste_Input),\n",
    "             cum_ChickLitter_Input = cumsum(df$ChickLitter_Input),\n",
    "             cum_Baggasse_Input = cumsum(df$Baggasse_Input),\n",
    "             cum_AlcoWaste_Input = cumsum(df$AlcoWaste_Input),\n",
    "             cum_MedicineWaste_Input = cumsum(df$MedicineWaste_Input),\n",
    "             cum_EnergyGrass_Input = cumsum(df$EnergyGrass_Input),\n",
    "             cum_BananaShafts_Input = cumsum(df$BananaShafts_Input),\n",
    "             cum_LemonWaste_Input = cumsum(df$LemonWaste_Input),\n",
    "             cum_Percolate_Input = cumsum(df$Percolate_Input),\n",
    "             cum_Other_Input = cumsum(df$Other_Input))\n",
    "\n",
    "#Add cumulative variables (outputs) running sums\n",
    "df <- mutate(df,\n",
    "            cum_BioCNG_Output = cumsum(df$BioCNG_Output),\n",
    "            cum_LiqFert_Output = cumsum(df$LiqFert_Output),\n",
    "            cum_SolFert_Output = cumsum(df$SolFert_Output))\n",
    "\n",
    "#One-day output in the future\n",
    "df$BioCNG40daysAhead <- lead(df$BioCNG_Output, +40)\n",
    "df$BioCNG30daysAhead <- lead(df$BioCNG_Output, +30)\n",
    "df$BioCNG20daysAhead <- lead(df$BioCNG_Output, +20)\n",
    "df$BioCNG10daysAhead <- lead(df$BioCNG_Output, +10)\n",
    "df$BioCNG5daysAhead <- lead(df$BioCNG_Output, +5)\n",
    "df$BioCNG3daysAhead <- lead(df$BioCNG_Output, +3)\n",
    "df$BioCNG1daysAhead <- lead(df$BioCNG_Output, +1)"
   ]
  },
  {
   "cell_type": "code",
   "execution_count": 9,
   "metadata": {},
   "outputs": [],
   "source": [
    "#Build new df\n",
    "df2 <- select(df,\n",
    "             BioCNG40daysAhead, BioCNG30daysAhead, BioCNG20daysAhead, BioCNG10daysAhead, BioCNG5daysAhead, BioCNG3daysAhead, BioCNG1daysAhead,\n",
    "             PigManure_Input, Cassava_Input, FishWaste_Input, FoodWaste_Input, \n",
    "             MunFecalRes_Input , TeaWaste_Input , ChickLitter_Input , Baggasse_Input ,\n",
    "             AlcoWaste_Input , MedicineWaste_Input , EnergyGrass_Input , BananaShafts_Input ,\n",
    "             LemonWaste_Input , Percolate_Input , Other_Input , codigestedAmount , total_Input ,\n",
    "             )"
   ]
  },
  {
   "cell_type": "code",
   "execution_count": 10,
   "metadata": {},
   "outputs": [],
   "source": [
    "# Prepare formulas\n",
    "\n",
    "#40 days\n",
    "outcome40 <- \"BioCNG40daysAhead\" \n",
    "variables <- names(select(df2,PigManure_Input:total_Input))\n",
    "\n",
    "#30 days\n",
    "outcome30 <- \"BioCNG30daysAhead\" \n",
    "variables <- names(select(df2,PigManure_Input:total_Input))\n",
    "\n",
    "#20 days\n",
    "outcome20 <- \"BioCNG20daysAhead\" \n",
    "variables <- names(select(df2,PigManure_Input:total_Input))\n",
    "\n",
    "#10 days\n",
    "outcome10 <- \"BioCNG10daysAhead\" \n",
    "variables <- names(select(df2,PigManure_Input:total_Input))\n",
    "\n",
    "#5 days\n",
    "outcome5 <- \"BioCNG5daysAhead\" \n",
    "variables <- names(select(df2,PigManure_Input:total_Input))\n",
    "\n",
    "#3 days\n",
    "outcome3 <- \"BioCNG3daysAhead\" \n",
    "variables <- names(select(df2,PigManure_Input:total_Input))\n",
    "\n",
    "#1 days\n",
    "outcome1 <- \"BioCNG1daysAhead\" \n",
    "variables <- names(select(df2,PigManure_Input:total_Input))\n",
    "\n",
    "# Bind into formulas\n",
    "f40 <- as.formula(paste(outcome40, paste(variables, collapse = \" + \"), sep = \" ~ \"))\n",
    "f30 <- as.formula(paste(outcome30, paste(variables, collapse = \" + \"), sep = \" ~ \"))\n",
    "f20 <- as.formula(paste(outcome20, paste(variables, collapse = \" + \"), sep = \" ~ \"))\n",
    "f10 <- as.formula(paste(outcome10, paste(variables, collapse = \" + \"), sep = \" ~ \"))\n",
    "f5 <- as.formula(paste(outcome5, paste(variables, collapse = \" + \"), sep = \" ~ \"))\n",
    "f3 <- as.formula(paste(outcome3, paste(variables, collapse = \" + \"), sep = \" ~ \"))\n",
    "f1 <- as.formula(paste(outcome1, paste(variables, collapse = \" + \"), sep = \" ~ \"))"
   ]
  },
  {
   "cell_type": "markdown",
   "metadata": {},
   "source": [
    "# Machine learning\n",
    "### In this section, we apply ML algorithms including, glmnet, decision trees, random forest, and xgboost to predict future output."
   ]
  },
  {
   "cell_type": "code",
   "execution_count": 11,
   "metadata": {},
   "outputs": [],
   "source": [
    "#Get rid of na values\n",
    "df2 <- subset(df, BioCNG40daysAhead != \"NA\")\n",
    "# sum(is.na(df2) == TRUE)\n",
    "# sum(is.na(df2))"
   ]
  },
  {
   "cell_type": "code",
   "execution_count": 12,
   "metadata": {},
   "outputs": [],
   "source": [
    "#Determine the train-test split ratio\n",
    "trainRatio = 0.90\n",
    "split <- round(nrow(df2)*trainRatio)\n",
    "train <- df2[1:split,]\n",
    "test <- df2[(split + 1):nrow(df2), ]"
   ]
  },
  {
   "cell_type": "code",
   "execution_count": 13,
   "metadata": {},
   "outputs": [],
   "source": [
    "#Define OSR2 function\n",
    "# convenience function, you're welcome :) \n",
    "OSR2 <- function(predictions, test, train) {\n",
    "  SSE <- sum((test - predictions)^2)\n",
    "  SST <- sum((test - mean(train))^2)\n",
    "  r2 <- 1 - SSE/SST\n",
    "  return(r2)\n",
    "}"
   ]
  },
  {
   "cell_type": "code",
   "execution_count": 14,
   "metadata": {},
   "outputs": [],
   "source": [
    "#Set seed for reproducible results\n",
    "set.seed(1)"
   ]
  },
  {
   "cell_type": "markdown",
   "metadata": {},
   "source": [
    "### Testing optimal time frame: 40 days (model performance and visualization of parameter tuning is commented out in subsequent prediction horizon sections for better code readability)"
   ]
  },
  {
   "cell_type": "markdown",
   "metadata": {},
   "source": [
    "#### Elastic net"
   ]
  },
  {
   "cell_type": "code",
   "execution_count": 15,
   "metadata": {},
   "outputs": [],
   "source": [
    "#Train model\n",
    "mod_enet_tuned40 <-train(f40,\n",
    "                     data=train,\n",
    "                     method=\"glmnet\",\n",
    "                     metric=\"RMSE\", \n",
    "                     tuneLength = 5)"
   ]
  },
  {
   "cell_type": "code",
   "execution_count": 16,
   "metadata": {},
   "outputs": [],
   "source": [
    "# Create a new vector in the dataframe with model's predicted values \n",
    "test$enet40_preds <- predict(mod_enet_tuned40, test)"
   ]
  },
  {
   "cell_type": "code",
   "execution_count": 17,
   "metadata": {},
   "outputs": [
    {
     "data": {
      "text/html": [
       "0.503720785154159"
      ],
      "text/latex": [
       "0.503720785154159"
      ],
      "text/markdown": [
       "0.503720785154159"
      ],
      "text/plain": [
       "[1] 0.5037208"
      ]
     },
     "metadata": {},
     "output_type": "display_data"
    }
   ],
   "source": [
    "# Calculate out-of-sample R2\n",
    "enet40_OSR2 <- OSR2(test$enet40_preds, test$BioCNG40daysAhead, train$BioCNG40daysAhead)\n",
    "enet40_OSR2"
   ]
  },
  {
   "cell_type": "code",
   "execution_count": 307,
   "metadata": {},
   "outputs": [
    {
     "data": {
      "text/plain": [
       "glmnet \n",
       "\n",
       "1222 samples\n",
       "  17 predictor\n",
       "\n",
       "No pre-processing\n",
       "Resampling: Bootstrapped (25 reps) \n",
       "Summary of sample sizes: 1222, 1222, 1222, 1222, 1222, 1222, ... \n",
       "Resampling results across tuning parameters:\n",
       "\n",
       "  alpha  lambda       RMSE      Rsquared   MAE     \n",
       "  0.100     2.365382  2204.232  0.5921671  1655.136\n",
       "  0.100    10.979130  2204.231  0.5921676  1655.135\n",
       "  0.100    50.960607  2202.456  0.5927077  1655.266\n",
       "  0.100   236.538185  2200.739  0.5934868  1661.968\n",
       "  0.100  1097.913000  2234.750  0.5876039  1718.047\n",
       "  0.325     2.365382  2203.598  0.5923823  1654.821\n",
       "  0.325    10.979130  2203.427  0.5924415  1654.751\n",
       "  0.325    50.960607  2199.417  0.5937637  1655.067\n",
       "  0.325   236.538185  2202.519  0.5940135  1670.741\n",
       "  0.325  1097.913000  2313.476  0.5725865  1813.823\n",
       "  0.550     2.365382  2203.453  0.5924344  1654.688\n",
       "  0.550    10.979130  2202.526  0.5927394  1654.437\n",
       "  0.550    50.960607  2197.652  0.5944494  1655.640\n",
       "  0.550   236.538185  2210.751  0.5924324  1684.709\n",
       "  0.550  1097.913000  2398.056  0.5594129  1910.170\n",
       "  0.775     2.365382  2203.528  0.5924151  1654.641\n",
       "  0.775    10.979130  2201.779  0.5929865  1654.242\n",
       "  0.775    50.960607  2197.102  0.5947432  1656.664\n",
       "  0.775   236.538185  2222.866  0.5896649  1700.656\n",
       "  0.775  1097.913000  2471.502  0.5591457  1992.792\n",
       "  1.000     2.365382  2203.445  0.5924381  1654.562\n",
       "  1.000    10.979130  2201.130  0.5932023  1654.107\n",
       "  1.000    50.960607  2197.246  0.5948103  1657.892\n",
       "  1.000   236.538185  2238.475  0.5856404  1717.372\n",
       "  1.000  1097.913000  2550.774  0.5586754  2073.685\n",
       "\n",
       "RMSE was used to select the optimal model using the smallest value.\n",
       "The final values used for the model were alpha = 0.775 and lambda = 50.96061."
      ]
     },
     "metadata": {},
     "output_type": "display_data"
    }
   ],
   "source": [
    "# # Check model performance\n",
    "mod_enet_tuned40"
   ]
  },
  {
   "cell_type": "code",
   "execution_count": 308,
   "metadata": {},
   "outputs": [
    {
     "name": "stderr",
     "output_type": "stream",
     "text": [
      "Warning message:\n",
      "\"Ignoring unknown aesthetics: shape\""
     ]
    },
    {
     "data": {},
     "metadata": {},
     "output_type": "display_data"
    },
    {
     "data": {
      "image/png": "[encoded data removed]",
      "text/plain": [
       "plot without title"
      ]
     },
     "metadata": {},
     "output_type": "display_data"
    }
   ],
   "source": [
    "# # Visualize tuning results\n",
    "ggplot(mod_enet_tuned40)"
   ]
  },
  {
   "cell_type": "markdown",
   "metadata": {},
   "source": [
    "#### Random forest"
   ]
  },
  {
   "cell_type": "code",
   "execution_count": 21,
   "metadata": {},
   "outputs": [],
   "source": [
    "# Train model\n",
    "mod_rf_tuned40 <- train(f40,\n",
    "           data = train,             \n",
    "           method = \"ranger\", \n",
    "           metric = \"RMSE\", \n",
    "           tuneLength = 5, importance = \"impurity\"\n",
    "           )"
   ]
  },
  {
   "cell_type": "code",
   "execution_count": 22,
   "metadata": {},
   "outputs": [],
   "source": [
    "# Create a new vector in the dataframe with model's predicted values \n",
    "test$rf_tuned40_preds <- predict(mod_rf_tuned40, test)"
   ]
  },
  {
   "cell_type": "code",
   "execution_count": 23,
   "metadata": {},
   "outputs": [
    {
     "data": {
      "text/html": [
       "0.819705464507805"
      ],
      "text/latex": [
       "0.819705464507805"
      ],
      "text/markdown": [
       "0.819705464507805"
      ],
      "text/plain": [
       "[1] 0.8197055"
      ]
     },
     "metadata": {},
     "output_type": "display_data"
    }
   ],
   "source": [
    "# Calculate out-of-sample R2\n",
    "mod_rf_tuned40_OSR2 <- OSR2(test$rf_tuned40_preds, test$BioCNG40daysAhead, train$BioCNG40daysAhead)\n",
    "mod_rf_tuned40_OSR2"
   ]
  },
  {
   "cell_type": "code",
   "execution_count": 309,
   "metadata": {},
   "outputs": [
    {
     "data": {
      "text/plain": [
       "Random Forest \n",
       "\n",
       "1222 samples\n",
       "  17 predictor\n",
       "\n",
       "No pre-processing\n",
       "Resampling: Bootstrapped (25 reps) \n",
       "Summary of sample sizes: 1222, 1222, 1222, 1222, 1222, 1222, ... \n",
       "Resampling results across tuning parameters:\n",
       "\n",
       "  mtry  splitrule   RMSE      Rsquared   MAE     \n",
       "   2    variance    1937.365  0.6861718  1419.522\n",
       "   2    extratrees  2011.249  0.6632789  1494.916\n",
       "   5    variance    1869.358  0.7056158  1336.031\n",
       "   5    extratrees  1853.716  0.7106931  1326.614\n",
       "   9    variance    1905.301  0.6947008  1360.558\n",
       "   9    extratrees  1861.685  0.7079854  1326.693\n",
       "  13    variance    1933.863  0.6861886  1379.851\n",
       "  13    extratrees  1875.910  0.7037306  1336.363\n",
       "  17    variance    1962.311  0.6776147  1395.523\n",
       "  17    extratrees  1885.323  0.7008550  1342.487\n",
       "\n",
       "Tuning parameter 'min.node.size' was held constant at a value of 5\n",
       "RMSE was used to select the optimal model using the smallest value.\n",
       "The final values used for the model were mtry = 5, splitrule = extratrees\n",
       " and min.node.size = 5."
      ]
     },
     "metadata": {},
     "output_type": "display_data"
    }
   ],
   "source": [
    "# # Check model performance\n",
    "mod_rf_tuned40"
   ]
  },
  {
   "cell_type": "code",
   "execution_count": 310,
   "metadata": {},
   "outputs": [
    {
     "name": "stderr",
     "output_type": "stream",
     "text": [
      "Warning message:\n",
      "\"Ignoring unknown aesthetics: shape\""
     ]
    },
    {
     "data": {},
     "metadata": {},
     "output_type": "display_data"
    },
    {
     "data": {
      "image/png": "[encoded data removed]",
      "text/plain": [
       "plot without title"
      ]
     },
     "metadata": {},
     "output_type": "display_data"
    }
   ],
   "source": [
    "# # Visualize tuning results\n",
    "ggplot(mod_rf_tuned40)"
   ]
  },
  {
   "cell_type": "markdown",
   "metadata": {},
   "source": [
    "#### XGBoost"
   ]
  },
  {
   "cell_type": "code",
   "execution_count": 34,
   "metadata": {},
   "outputs": [],
   "source": [
    "#Train model\n",
    "mod_xgb_tuned40 <-train(f40,\n",
    "                     data=train,\n",
    "                     method=\"xgbTree\",\n",
    "                     verbose=F,\n",
    "                     metric=\"RMSE\", importance = \"impurity\",\n",
    "                     tuneLength = 3)"
   ]
  },
  {
   "cell_type": "code",
   "execution_count": 35,
   "metadata": {},
   "outputs": [],
   "source": [
    "# Create a new vector in the dataframe with model's predicted values \n",
    "test$xgb_tuned40_preds <- predict(mod_xgb_tuned40, test)"
   ]
  },
  {
   "cell_type": "code",
   "execution_count": 36,
   "metadata": {},
   "outputs": [
    {
     "data": {
      "text/html": [
       "0.802452920682879"
      ],
      "text/latex": [
       "0.802452920682879"
      ],
      "text/markdown": [
       "0.802452920682879"
      ],
      "text/plain": [
       "[1] 0.8024529"
      ]
     },
     "metadata": {},
     "output_type": "display_data"
    }
   ],
   "source": [
    "# Calculate out-of-sample R2\n",
    "mod_xgb_tuned40_OSR2 <- OSR2(test$xgb_tuned40_preds, test$BioCNG40daysAhead, train$BioCNG40daysAhead)\n",
    "mod_xgb_tuned40_OSR2"
   ]
  },
  {
   "cell_type": "code",
   "execution_count": 311,
   "metadata": {},
   "outputs": [
    {
     "data": {
      "text/plain": [
       "eXtreme Gradient Boosting \n",
       "\n",
       "1222 samples\n",
       "  17 predictor\n",
       "\n",
       "No pre-processing\n",
       "Resampling: Bootstrapped (25 reps) \n",
       "Summary of sample sizes: 1222, 1222, 1222, 1222, 1222, 1222, ... \n",
       "Resampling results across tuning parameters:\n",
       "\n",
       "  eta  max_depth  colsample_bytree  subsample  nrounds  RMSE      Rsquared \n",
       "  0.3  1          0.6               0.50        50      2087.953  0.6372681\n",
       "  0.3  1          0.6               0.50       100      2070.692  0.6433393\n",
       "  0.3  1          0.6               0.50       150      2065.786  0.6456209\n",
       "  0.3  1          0.6               0.75        50      2084.638  0.6386373\n",
       "  0.3  1          0.6               0.75       100      2065.611  0.6450810\n",
       "  0.3  1          0.6               0.75       150      2059.588  0.6473713\n",
       "  0.3  1          0.6               1.00        50      2086.986  0.6377509\n",
       "  0.3  1          0.6               1.00       100      2068.145  0.6442348\n",
       "  0.3  1          0.6               1.00       150      2060.423  0.6468786\n",
       "  0.3  1          0.8               0.50        50      2077.965  0.6409107\n",
       "  0.3  1          0.8               0.50       100      2062.381  0.6463945\n",
       "  0.3  1          0.8               0.50       150      2058.383  0.6477261\n",
       "  0.3  1          0.8               0.75        50      2078.242  0.6406663\n",
       "  0.3  1          0.8               0.75       100      2063.547  0.6460811\n",
       "  0.3  1          0.8               0.75       150      2059.786  0.6473137\n",
       "  0.3  1          0.8               1.00        50      2080.052  0.6402842\n",
       "  0.3  1          0.8               1.00       100      2063.676  0.6458091\n",
       "  0.3  1          0.8               1.00       150      2057.173  0.6480503\n",
       "  0.3  2          0.6               0.50        50      2053.338  0.6501806\n",
       "  0.3  2          0.6               0.50       100      2066.921  0.6472074\n",
       "  0.3  2          0.6               0.50       150      2087.795  0.6413772\n",
       "  0.3  2          0.6               0.75        50      2034.996  0.6559118\n",
       "  0.3  2          0.6               0.75       100      2041.358  0.6546547\n",
       "  0.3  2          0.6               0.75       150      2057.642  0.6499953\n",
       "  0.3  2          0.6               1.00        50      2039.854  0.6539904\n",
       "  0.3  2          0.6               1.00       100      2051.313  0.6508733\n",
       "  0.3  2          0.6               1.00       150      2066.975  0.6465906\n",
       "  0.3  2          0.8               0.50        50      2047.400  0.6519255\n",
       "  0.3  2          0.8               0.50       100      2066.065  0.6474197\n",
       "  0.3  2          0.8               0.50       150      2086.675  0.6416997\n",
       "  0.3  2          0.8               0.75        50      2041.310  0.6538358\n",
       "  0.3  2          0.8               0.75       100      2049.450  0.6519421\n",
       "  0.3  2          0.8               0.75       150      2061.517  0.6490114\n",
       "  0.3  2          0.8               1.00        50      2034.017  0.6561313\n",
       "  0.3  2          0.8               1.00       100      2045.607  0.6530873\n",
       "  0.3  2          0.8               1.00       150      2059.939  0.6492521\n",
       "  0.3  3          0.6               0.50        50      2043.025  0.6548210\n",
       "  0.3  3          0.6               0.50       100      2065.023  0.6493317\n",
       "  0.3  3          0.6               0.50       150      2087.823  0.6430791\n",
       "  0.3  3          0.6               0.75        50      2037.118  0.6566529\n",
       "  0.3  3          0.6               0.75       100      2060.487  0.6504824\n",
       "  0.3  3          0.6               0.75       150      2076.114  0.6467754\n",
       "  0.3  3          0.6               1.00        50      2023.097  0.6602395\n",
       "  0.3  3          0.6               1.00       100      2038.856  0.6562284\n",
       "  0.3  3          0.6               1.00       150      2054.182  0.6523862\n",
       "  0.3  3          0.8               0.50        50      2037.374  0.6570623\n",
       "  0.3  3          0.8               0.50       100      2076.037  0.6468194\n",
       "  0.3  3          0.8               0.50       150      2098.655  0.6406891\n",
       "  0.3  3          0.8               0.75        50      2035.305  0.6567980\n",
       "  0.3  3          0.8               0.75       100      2060.791  0.6500309\n",
       "  0.3  3          0.8               0.75       150      2078.800  0.6451257\n",
       "  0.3  3          0.8               1.00        50      2015.148  0.6634391\n",
       "  0.3  3          0.8               1.00       100      2034.481  0.6583129\n",
       "  0.3  3          0.8               1.00       150      2051.551  0.6536231\n",
       "  0.4  1          0.6               0.50        50      2102.891  0.6327226\n",
       "  0.4  1          0.6               0.50       100      2079.568  0.6405564\n",
       "  0.4  1          0.6               0.50       150      2078.334  0.6414166\n",
       "  0.4  1          0.6               0.75        50      2092.744  0.6355998\n",
       "  0.4  1          0.6               0.75       100      2069.070  0.6440287\n",
       "  0.4  1          0.6               0.75       150      2064.350  0.6458494\n",
       "  0.4  1          0.6               1.00        50      2089.633  0.6367287\n",
       "  0.4  1          0.6               1.00       100      2071.328  0.6431131\n",
       "  0.4  1          0.6               1.00       150      2063.946  0.6457735\n",
       "  0.4  1          0.8               0.50        50      2085.995  0.6383352\n",
       "  0.4  1          0.8               0.50       100      2072.144  0.6435377\n",
       "  0.4  1          0.8               0.50       150      2069.002  0.6447307\n",
       "  0.4  1          0.8               0.75        50      2074.008  0.6423555\n",
       "  0.4  1          0.8               0.75       100      2061.333  0.6468950\n",
       "  0.4  1          0.8               0.75       150      2058.956  0.6480421\n",
       "  0.4  1          0.8               1.00        50      2073.900  0.6421721\n",
       "  0.4  1          0.8               1.00       100      2060.948  0.6466343\n",
       "  0.4  1          0.8               1.00       150      2053.907  0.6491913\n",
       "  0.4  2          0.6               0.50        50      2083.927  0.6414896\n",
       "  0.4  2          0.6               0.50       100      2118.794  0.6319757\n",
       "  0.4  2          0.6               0.50       150      2135.023  0.6287001\n",
       "  0.4  2          0.6               0.75        50      2045.417  0.6531953\n",
       "  0.4  2          0.6               0.75       100      2067.401  0.6475787\n",
       "  0.4  2          0.6               0.75       150      2082.443  0.6440583\n",
       "  0.4  2          0.6               1.00        50      2045.463  0.6527999\n",
       "  0.4  2          0.6               1.00       100      2068.808  0.6465533\n",
       "  0.4  2          0.6               1.00       150      2084.305  0.6427228\n",
       "  0.4  2          0.8               0.50        50      2060.614  0.6483197\n",
       "  0.4  2          0.8               0.50       100      2096.541  0.6391494\n",
       "  0.4  2          0.8               0.50       150      2125.387  0.6309442\n",
       "  0.4  2          0.8               0.75        50      2048.098  0.6518561\n",
       "  0.4  2          0.8               0.75       100      2080.472  0.6429614\n",
       "  0.4  2          0.8               0.75       150      2101.696  0.6372202\n",
       "  0.4  2          0.8               1.00        50      2042.893  0.6535866\n",
       "  0.4  2          0.8               1.00       100      2064.320  0.6478803\n",
       "  0.4  2          0.8               1.00       150      2082.423  0.6432019\n",
       "  0.4  3          0.6               0.50        50      2088.632  0.6409556\n",
       "  0.4  3          0.6               0.50       100      2129.010  0.6300595\n",
       "  0.4  3          0.6               0.50       150      2155.342  0.6235880\n",
       "  0.4  3          0.6               0.75        50      2078.643  0.6439663\n",
       "  0.4  3          0.6               0.75       100      2110.350  0.6361238\n",
       "  0.4  3          0.6               0.75       150      2133.705  0.6297476\n",
       "  0.4  3          0.6               1.00        50      2049.262  0.6526709\n",
       "  0.4  3          0.6               1.00       100      2080.575  0.6443248\n",
       "  0.4  3          0.6               1.00       150      2102.063  0.6385510\n",
       "  0.4  3          0.8               0.50        50      2100.814  0.6375052\n",
       "  0.4  3          0.8               0.50       100      2130.652  0.6308583\n",
       "  0.4  3          0.8               0.50       150      2150.389  0.6263933\n",
       "  0.4  3          0.8               0.75        50      2067.392  0.6480719\n",
       "  0.4  3          0.8               0.75       100      2100.463  0.6394664\n",
       "  0.4  3          0.8               0.75       150      2123.132  0.6336076\n",
       "  0.4  3          0.8               1.00        50      2044.417  0.6545138\n",
       "  0.4  3          0.8               1.00       100      2073.714  0.6467740\n",
       "  0.4  3          0.8               1.00       150      2102.343  0.6387993\n",
       "  MAE     \n",
       "  1515.655\n",
       "  1496.177\n",
       "  1490.323\n",
       "  1512.323\n",
       "  1492.599\n",
       "  1486.693\n",
       "  1515.234\n",
       "  1493.272\n",
       "  1486.087\n",
       "  1506.704\n",
       "  1491.269\n",
       "  1488.466\n",
       "  1504.883\n",
       "  1485.216\n",
       "  1481.879\n",
       "  1508.309\n",
       "  1490.439\n",
       "  1483.508\n",
       "  1477.455\n",
       "  1490.626\n",
       "  1509.999\n",
       "  1468.951\n",
       "  1476.959\n",
       "  1490.702\n",
       "  1465.968\n",
       "  1472.398\n",
       "  1485.073\n",
       "  1471.130\n",
       "  1486.055\n",
       "  1506.808\n",
       "  1462.426\n",
       "  1469.569\n",
       "  1483.180\n",
       "  1457.717\n",
       "  1463.683\n",
       "  1475.319\n",
       "  1470.828\n",
       "  1499.133\n",
       "  1520.716\n",
       "  1457.706\n",
       "  1480.465\n",
       "  1494.365\n",
       "  1449.702\n",
       "  1462.737\n",
       "  1474.268\n",
       "  1465.175\n",
       "  1496.774\n",
       "  1519.165\n",
       "  1459.083\n",
       "  1479.408\n",
       "  1497.385\n",
       "  1440.764\n",
       "  1454.244\n",
       "  1469.988\n",
       "  1523.783\n",
       "  1505.245\n",
       "  1505.864\n",
       "  1517.559\n",
       "  1494.038\n",
       "  1491.887\n",
       "  1512.045\n",
       "  1494.244\n",
       "  1487.984\n",
       "  1506.350\n",
       "  1492.484\n",
       "  1495.246\n",
       "  1497.516\n",
       "  1485.104\n",
       "  1485.306\n",
       "  1501.751\n",
       "  1486.267\n",
       "  1480.898\n",
       "  1501.897\n",
       "  1531.371\n",
       "  1548.201\n",
       "  1473.266\n",
       "  1494.146\n",
       "  1509.349\n",
       "  1471.418\n",
       "  1487.750\n",
       "  1503.089\n",
       "  1486.814\n",
       "  1513.712\n",
       "  1539.394\n",
       "  1469.633\n",
       "  1495.128\n",
       "  1514.014\n",
       "  1467.938\n",
       "  1486.162\n",
       "  1504.103\n",
       "  1513.940\n",
       "  1548.961\n",
       "  1571.908\n",
       "  1490.434\n",
       "  1520.463\n",
       "  1545.984\n",
       "  1468.518\n",
       "  1496.909\n",
       "  1517.153\n",
       "  1508.769\n",
       "  1538.799\n",
       "  1559.092\n",
       "  1479.573\n",
       "  1513.275\n",
       "  1535.006\n",
       "  1463.741\n",
       "  1487.073\n",
       "  1513.322\n",
       "\n",
       "Tuning parameter 'gamma' was held constant at a value of 0\n",
       "Tuning\n",
       " parameter 'min_child_weight' was held constant at a value of 1\n",
       "RMSE was used to select the optimal model using the smallest value.\n",
       "The final values used for the model were nrounds = 50, max_depth = 3, eta\n",
       " = 0.3, gamma = 0, colsample_bytree = 0.8, min_child_weight = 1 and subsample\n",
       " = 1."
      ]
     },
     "metadata": {},
     "output_type": "display_data"
    }
   ],
   "source": [
    "# # Check model performance\n",
    "mod_xgb_tuned40"
   ]
  },
  {
   "cell_type": "code",
   "execution_count": 316,
   "metadata": {},
   "outputs": [
    {
     "data": {},
     "metadata": {},
     "output_type": "display_data"
    },
    {
     "data": {
      "image/png": "[encoded data removed]",
      "text/plain": [
       "plot without title"
      ]
     },
     "metadata": {},
     "output_type": "display_data"
    },
    {
     "data": {
      "image/png": "[encoded data removed]",
      "text/plain": [
       "plot without title"
      ]
     },
     "metadata": {},
     "output_type": "display_data"
    }
   ],
   "source": [
    "# # Visualize tuning results\n",
    "plot(mod_xgb_tuned40)"
   ]
  },
  {
   "cell_type": "markdown",
   "metadata": {},
   "source": [
    "### Testing optimal time frame: 30 days"
   ]
  },
  {
   "cell_type": "markdown",
   "metadata": {},
   "source": [
    "#### Elastic net"
   ]
  },
  {
   "cell_type": "code",
   "execution_count": 40,
   "metadata": {},
   "outputs": [],
   "source": [
    "#Train model\n",
    "mod_enet_tuned30 <-train(f30,\n",
    "                     data=train,\n",
    "                     method=\"glmnet\",\n",
    "                     metric=\"RMSE\", \n",
    "                     tuneLength = 5)"
   ]
  },
  {
   "cell_type": "code",
   "execution_count": 41,
   "metadata": {},
   "outputs": [],
   "source": [
    "# Create a new vector in the dataframe with model's predicted values \n",
    "test$enet30_preds <- predict(mod_enet_tuned30, test)"
   ]
  },
  {
   "cell_type": "code",
   "execution_count": 42,
   "metadata": {},
   "outputs": [
    {
     "data": {
      "text/html": [
       "0.611909189250983"
      ],
      "text/latex": [
       "0.611909189250983"
      ],
      "text/markdown": [
       "0.611909189250983"
      ],
      "text/plain": [
       "[1] 0.6119092"
      ]
     },
     "metadata": {},
     "output_type": "display_data"
    }
   ],
   "source": [
    "# Calculate out-of-sample R2\n",
    "enet30_OSR2 <- OSR2(test$enet30_preds, test$BioCNG30daysAhead, train$BioCNG30daysAhead)\n",
    "enet30_OSR2"
   ]
  },
  {
   "cell_type": "code",
   "execution_count": 43,
   "metadata": {},
   "outputs": [],
   "source": [
    "# # Check model performance\n",
    "# mod_enet_tuned30"
   ]
  },
  {
   "cell_type": "code",
   "execution_count": 44,
   "metadata": {},
   "outputs": [],
   "source": [
    "# # Visualize tuning results\n",
    "# ggplot(mod_enet_tuned30)"
   ]
  },
  {
   "cell_type": "markdown",
   "metadata": {},
   "source": [
    "#### Random forest"
   ]
  },
  {
   "cell_type": "code",
   "execution_count": 45,
   "metadata": {},
   "outputs": [],
   "source": [
    "# Train model\n",
    "mod_rf_tuned30 <- train(f30,\n",
    "           data = train,             \n",
    "           method = \"ranger\", \n",
    "           metric = \"RMSE\", \n",
    "           tuneLength = 5, importance = \"impurity\")"
   ]
  },
  {
   "cell_type": "code",
   "execution_count": 46,
   "metadata": {},
   "outputs": [],
   "source": [
    "# Create a new vector in the dataframe with model's predicted values \n",
    "test$rf_tuned30_preds <- predict(mod_rf_tuned30, test)"
   ]
  },
  {
   "cell_type": "code",
   "execution_count": 47,
   "metadata": {},
   "outputs": [
    {
     "data": {
      "text/html": [
       "0.823043240739736"
      ],
      "text/latex": [
       "0.823043240739736"
      ],
      "text/markdown": [
       "0.823043240739736"
      ],
      "text/plain": [
       "[1] 0.8230432"
      ]
     },
     "metadata": {},
     "output_type": "display_data"
    }
   ],
   "source": [
    "# Calculate out-of-sample R2\n",
    "mod_rf_tuned30_OSR2 <- OSR2(test$rf_tuned30_preds, test$BioCNG30daysAhead, train$BioCNG30daysAhead)\n",
    "mod_rf_tuned30_OSR2"
   ]
  },
  {
   "cell_type": "code",
   "execution_count": 48,
   "metadata": {},
   "outputs": [],
   "source": [
    "# # Check model performance\n",
    "# mod_rf_tuned30"
   ]
  },
  {
   "cell_type": "code",
   "execution_count": 49,
   "metadata": {},
   "outputs": [],
   "source": [
    "# # Visualize tuning results\n",
    "# ggplot(mod_rf_tuned30)"
   ]
  },
  {
   "cell_type": "code",
   "execution_count": 50,
   "metadata": {},
   "outputs": [],
   "source": [
    "# # Variable importance plot\n",
    "# ggplot(varImp(mod_rf_tuned30))"
   ]
  },
  {
   "cell_type": "markdown",
   "metadata": {},
   "source": [
    "#### XGBoost"
   ]
  },
  {
   "cell_type": "code",
   "execution_count": 51,
   "metadata": {},
   "outputs": [],
   "source": [
    "#Train model\n",
    "mod_xgb_tuned30 <-train(f30,\n",
    "                     data=train,\n",
    "                     method=\"xgbTree\",\n",
    "                     verbose=F,\n",
    "                     metric=\"RMSE\",\n",
    "                     tuneLength = 3)"
   ]
  },
  {
   "cell_type": "code",
   "execution_count": 52,
   "metadata": {},
   "outputs": [],
   "source": [
    "# Create a new vector in the dataframe with model's predicted values \n",
    "test$xgb_tuned30_preds <- predict(mod_xgb_tuned30, test)"
   ]
  },
  {
   "cell_type": "code",
   "execution_count": 53,
   "metadata": {},
   "outputs": [
    {
     "data": {
      "text/html": [
       "0.814834831426966"
      ],
      "text/latex": [
       "0.814834831426966"
      ],
      "text/markdown": [
       "0.814834831426966"
      ],
      "text/plain": [
       "[1] 0.8148348"
      ]
     },
     "metadata": {},
     "output_type": "display_data"
    }
   ],
   "source": [
    "# Calculate out-of-sample R2\n",
    "mod_xgb_tuned30_OSR2 <- OSR2(test$xgb_tuned30_preds, test$BioCNG30daysAhead, train$BioCNG30daysAhead)\n",
    "mod_xgb_tuned30_OSR2"
   ]
  },
  {
   "cell_type": "code",
   "execution_count": 54,
   "metadata": {},
   "outputs": [],
   "source": [
    "# # Check model performance\n",
    "# mod_xgb_tuned30"
   ]
  },
  {
   "cell_type": "code",
   "execution_count": 55,
   "metadata": {},
   "outputs": [],
   "source": [
    "# # Visualize tuning results\n",
    "# plot(mod_xgb_tuned30)"
   ]
  },
  {
   "cell_type": "code",
   "execution_count": 56,
   "metadata": {},
   "outputs": [],
   "source": [
    "# # Variable importance plot\n",
    "# ggplot(varImp(mod_xgb_tuned30))"
   ]
  },
  {
   "cell_type": "markdown",
   "metadata": {},
   "source": [
    "### Testing optimal time frame: 20 days"
   ]
  },
  {
   "cell_type": "markdown",
   "metadata": {},
   "source": [
    "#### Elastic net"
   ]
  },
  {
   "cell_type": "code",
   "execution_count": 57,
   "metadata": {},
   "outputs": [],
   "source": [
    "#Train model\n",
    "mod_enet_tuned20 <-train(f20,\n",
    "                     data=train,\n",
    "                     method=\"glmnet\",\n",
    "                     metric=\"RMSE\",\n",
    "                     tuneLength = 5)"
   ]
  },
  {
   "cell_type": "code",
   "execution_count": 58,
   "metadata": {},
   "outputs": [],
   "source": [
    "# Create a new vector in the dataframe with model's predicted values \n",
    "test$enet20_preds <- predict(mod_enet_tuned20, test)"
   ]
  },
  {
   "cell_type": "code",
   "execution_count": 59,
   "metadata": {},
   "outputs": [
    {
     "data": {
      "text/html": [
       "0.703561104118374"
      ],
      "text/latex": [
       "0.703561104118374"
      ],
      "text/markdown": [
       "0.703561104118374"
      ],
      "text/plain": [
       "[1] 0.7035611"
      ]
     },
     "metadata": {},
     "output_type": "display_data"
    }
   ],
   "source": [
    "# Calculate out-of-sample R2\n",
    "enet20_OSR2 <- OSR2(test$enet20_preds, test$BioCNG20daysAhead, train$BioCNG20daysAhead)\n",
    "enet20_OSR2"
   ]
  },
  {
   "cell_type": "code",
   "execution_count": 60,
   "metadata": {},
   "outputs": [],
   "source": [
    "# # Check model performance\n",
    "# mod_enet_tuned20"
   ]
  },
  {
   "cell_type": "code",
   "execution_count": 61,
   "metadata": {},
   "outputs": [],
   "source": [
    "# # Visualize tuning results\n",
    "# ggplot(mod_enet_tuned20)"
   ]
  },
  {
   "cell_type": "markdown",
   "metadata": {},
   "source": [
    "#### Random forest"
   ]
  },
  {
   "cell_type": "code",
   "execution_count": 62,
   "metadata": {},
   "outputs": [],
   "source": [
    "# Train model\n",
    "mod_rf_tuned20 <- train(f20,\n",
    "           data = train,             \n",
    "           method = \"ranger\", \n",
    "           metric = \"RMSE\", \n",
    "           tuneLength = 5, importance = \"impurity\")"
   ]
  },
  {
   "cell_type": "code",
   "execution_count": 63,
   "metadata": {},
   "outputs": [],
   "source": [
    "# Create a new vector in the dataframe with model's predicted values \n",
    "test$rf_tuned20_preds <- predict(mod_rf_tuned20, test)"
   ]
  },
  {
   "cell_type": "code",
   "execution_count": 64,
   "metadata": {},
   "outputs": [
    {
     "data": {
      "text/html": [
       "0.831198348133842"
      ],
      "text/latex": [
       "0.831198348133842"
      ],
      "text/markdown": [
       "0.831198348133842"
      ],
      "text/plain": [
       "[1] 0.8311983"
      ]
     },
     "metadata": {},
     "output_type": "display_data"
    }
   ],
   "source": [
    "# Calculate out-of-sample R2\n",
    "mod_rf_tuned20_OSR2 <- OSR2(test$rf_tuned20_preds, test$BioCNG20daysAhead, train$BioCNG20daysAhead)\n",
    "mod_rf_tuned20_OSR2"
   ]
  },
  {
   "cell_type": "code",
   "execution_count": 65,
   "metadata": {},
   "outputs": [],
   "source": [
    "# # Check model performance\n",
    "# mod_rf_tuned20"
   ]
  },
  {
   "cell_type": "code",
   "execution_count": 66,
   "metadata": {},
   "outputs": [],
   "source": [
    "# # Visualize tuning results\n",
    "# ggplot(mod_rf_tuned20)"
   ]
  },
  {
   "cell_type": "markdown",
   "metadata": {},
   "source": [
    "#### XGBoost"
   ]
  },
  {
   "cell_type": "code",
   "execution_count": 67,
   "metadata": {},
   "outputs": [],
   "source": [
    "#Train model\n",
    "mod_xgb_tuned20 <-train(f20,\n",
    "                     data=train,\n",
    "                     method=\"xgbTree\",\n",
    "                     verbose=F,\n",
    "                     metric=\"RMSE\",\n",
    "                     tuneLength = 3)"
   ]
  },
  {
   "cell_type": "code",
   "execution_count": 68,
   "metadata": {},
   "outputs": [],
   "source": [
    "# Create a new vector in the dataframe with model's predicted values \n",
    "test$xgb_tuned20_preds <- predict(mod_xgb_tuned20, test)"
   ]
  },
  {
   "cell_type": "code",
   "execution_count": 69,
   "metadata": {},
   "outputs": [
    {
     "data": {
      "text/html": [
       "0.774369639832639"
      ],
      "text/latex": [
       "0.774369639832639"
      ],
      "text/markdown": [
       "0.774369639832639"
      ],
      "text/plain": [
       "[1] 0.7743696"
      ]
     },
     "metadata": {},
     "output_type": "display_data"
    }
   ],
   "source": [
    "# Calculate out-of-sample R2\n",
    "mod_xgb_tuned20_OSR2 <- OSR2(test$xgb_tuned20_preds, test$BioCNG20daysAhead, train$BioCNG20daysAhead)\n",
    "mod_xgb_tuned20_OSR2"
   ]
  },
  {
   "cell_type": "code",
   "execution_count": 70,
   "metadata": {},
   "outputs": [],
   "source": [
    "# # Check model performance\n",
    "# mod_xgb_tuned20"
   ]
  },
  {
   "cell_type": "code",
   "execution_count": 71,
   "metadata": {},
   "outputs": [],
   "source": [
    "# # Visualize tuning results\n",
    "# plot(mod_xgb_tuned20)"
   ]
  },
  {
   "cell_type": "markdown",
   "metadata": {},
   "source": [
    "### Testing optimal time frame: 10 days"
   ]
  },
  {
   "cell_type": "markdown",
   "metadata": {},
   "source": [
    "#### Elastic net"
   ]
  },
  {
   "cell_type": "code",
   "execution_count": 297,
   "metadata": {},
   "outputs": [],
   "source": [
    "#Train model\n",
    "mod_enet_tuned10 <-train(f10,\n",
    "                     data=train,\n",
    "                     method=\"glmnet\",\n",
    "                     metric=\"RMSE\",\n",
    "                     tuneLength = 5)"
   ]
  },
  {
   "cell_type": "code",
   "execution_count": 298,
   "metadata": {},
   "outputs": [],
   "source": [
    "# Create a new vector in the dataframe with model's predicted values \n",
    "test$enet10_preds <- predict(mod_enet_tuned10, test)"
   ]
  },
  {
   "cell_type": "code",
   "execution_count": 299,
   "metadata": {},
   "outputs": [
    {
     "data": {
      "text/html": [
       "0.682095388254532"
      ],
      "text/latex": [
       "0.682095388254532"
      ],
      "text/markdown": [
       "0.682095388254532"
      ],
      "text/plain": [
       "[1] 0.6820954"
      ]
     },
     "metadata": {},
     "output_type": "display_data"
    }
   ],
   "source": [
    "# Calculate out-of-sample R2\n",
    "enet10_OSR2 <- OSR2(test$enet10_preds, test$BioCNG10daysAhead, train$BioCNG10daysAhead)\n",
    "enet10_OSR2"
   ]
  },
  {
   "cell_type": "code",
   "execution_count": 300,
   "metadata": {},
   "outputs": [],
   "source": [
    "# # Check model performance\n",
    "# mod_enet_tuned10"
   ]
  },
  {
   "cell_type": "code",
   "execution_count": 301,
   "metadata": {},
   "outputs": [],
   "source": [
    "# # Visualize tuning results\n",
    "# ggplot(mod_enet_tuned10)"
   ]
  },
  {
   "cell_type": "markdown",
   "metadata": {},
   "source": [
    "#### Random forest"
   ]
  },
  {
   "cell_type": "code",
   "execution_count": 77,
   "metadata": {},
   "outputs": [],
   "source": [
    "# Train model\n",
    "mod_rf_tuned10 <- train(f10,\n",
    "           data = train,             \n",
    "           method = \"ranger\", \n",
    "           metric = \"RMSE\", \n",
    "           tuneLength = 5, importance = \"impurity\")"
   ]
  },
  {
   "cell_type": "code",
   "execution_count": 78,
   "metadata": {},
   "outputs": [],
   "source": [
    "# Create a new vector in the dataframe with model's predicted values \n",
    "test$rf_tuned10_preds <- predict(mod_rf_tuned10, test)"
   ]
  },
  {
   "cell_type": "code",
   "execution_count": 79,
   "metadata": {},
   "outputs": [
    {
     "data": {
      "text/html": [
       "0.850720462931534"
      ],
      "text/latex": [
       "0.850720462931534"
      ],
      "text/markdown": [
       "0.850720462931534"
      ],
      "text/plain": [
       "[1] 0.8507205"
      ]
     },
     "metadata": {},
     "output_type": "display_data"
    }
   ],
   "source": [
    "# Calculate out-of-sample R2\n",
    "mod_rf_tuned10_OSR2 <- OSR2(test$rf_tuned10_preds, test$BioCNG10daysAhead, train$BioCNG10daysAhead)\n",
    "mod_rf_tuned10_OSR2"
   ]
  },
  {
   "cell_type": "code",
   "execution_count": 80,
   "metadata": {},
   "outputs": [],
   "source": [
    "# # Check model performance\n",
    "# mod_rf_tuned10"
   ]
  },
  {
   "cell_type": "code",
   "execution_count": 81,
   "metadata": {},
   "outputs": [],
   "source": [
    "# # Visualize tuning results\n",
    "# ggplot(mod_rf_tuned10)"
   ]
  },
  {
   "cell_type": "markdown",
   "metadata": {},
   "source": [
    "#### XGBoost"
   ]
  },
  {
   "cell_type": "code",
   "execution_count": 82,
   "metadata": {},
   "outputs": [],
   "source": [
    "#Train model\n",
    "mod_xgb_tuned10 <-train(f10,\n",
    "                     data=train,\n",
    "                     method=\"xgbTree\",\n",
    "                     verbose=F,\n",
    "                     metric=\"RMSE\",\n",
    "                     tuneLength = 3)"
   ]
  },
  {
   "cell_type": "code",
   "execution_count": 83,
   "metadata": {},
   "outputs": [],
   "source": [
    "# Create a new vector in the dataframe with model's predicted values \n",
    "test$xgb_tuned10_preds <- predict(mod_xgb_tuned10, test)"
   ]
  },
  {
   "cell_type": "code",
   "execution_count": 84,
   "metadata": {},
   "outputs": [
    {
     "data": {
      "text/html": [
       "0.818325541019776"
      ],
      "text/latex": [
       "0.818325541019776"
      ],
      "text/markdown": [
       "0.818325541019776"
      ],
      "text/plain": [
       "[1] 0.8183255"
      ]
     },
     "metadata": {},
     "output_type": "display_data"
    }
   ],
   "source": [
    "# Calculate out-of-sample R2\n",
    "mod_xgb_tuned10_OSR2 <- OSR2(test$xgb_tuned10_preds, test$BioCNG10daysAhead, train$BioCNG10daysAhead)\n",
    "mod_xgb_tuned10_OSR2"
   ]
  },
  {
   "cell_type": "code",
   "execution_count": 85,
   "metadata": {},
   "outputs": [],
   "source": [
    "# # Check model performance\n",
    "# mod_xgb_tuned10"
   ]
  },
  {
   "cell_type": "code",
   "execution_count": 86,
   "metadata": {},
   "outputs": [],
   "source": [
    "# # Visualize tuning results\n",
    "# plot(mod_xgb_tuned10)"
   ]
  },
  {
   "cell_type": "markdown",
   "metadata": {},
   "source": [
    "### Testing optimal time frame: 5 days"
   ]
  },
  {
   "cell_type": "markdown",
   "metadata": {},
   "source": [
    "#### Elastic net"
   ]
  },
  {
   "cell_type": "code",
   "execution_count": 87,
   "metadata": {},
   "outputs": [],
   "source": [
    "#Train model\n",
    "mod_enet_tuned5 <-train(f5,\n",
    "                     data=train,\n",
    "                     method=\"glmnet\",\n",
    "                     metric=\"RMSE\",\n",
    "                     tuneLength = 5)"
   ]
  },
  {
   "cell_type": "code",
   "execution_count": 88,
   "metadata": {},
   "outputs": [],
   "source": [
    "# Create a new vector in the dataframe with model's predicted values \n",
    "test$enet5_preds <- predict(mod_enet_tuned5, test)"
   ]
  },
  {
   "cell_type": "code",
   "execution_count": 89,
   "metadata": {},
   "outputs": [
    {
     "data": {
      "text/html": [
       "0.735086800874827"
      ],
      "text/latex": [
       "0.735086800874827"
      ],
      "text/markdown": [
       "0.735086800874827"
      ],
      "text/plain": [
       "[1] 0.7350868"
      ]
     },
     "metadata": {},
     "output_type": "display_data"
    }
   ],
   "source": [
    "# Calculate out-of-sample R2\n",
    "enet5_OSR2 <- OSR2(test$enet5_preds, test$BioCNG5daysAhead, train$BioCNG5daysAhead)\n",
    "enet5_OSR2"
   ]
  },
  {
   "cell_type": "code",
   "execution_count": 90,
   "metadata": {},
   "outputs": [],
   "source": [
    "# # Check model performance\n",
    "# mod_enet_tuned5"
   ]
  },
  {
   "cell_type": "code",
   "execution_count": 91,
   "metadata": {},
   "outputs": [],
   "source": [
    "# # Visualize tuning results\n",
    "# ggplot(mod_enet_tuned5)"
   ]
  },
  {
   "cell_type": "markdown",
   "metadata": {},
   "source": [
    "#### Random forest"
   ]
  },
  {
   "cell_type": "code",
   "execution_count": 92,
   "metadata": {},
   "outputs": [],
   "source": [
    "# Train model\n",
    "mod_rf_tuned5 <- train(f5,\n",
    "           data = train,             \n",
    "           method = \"ranger\", \n",
    "           metric = \"RMSE\", \n",
    "           tuneLength = 5, importance = \"impurity\")"
   ]
  },
  {
   "cell_type": "code",
   "execution_count": 93,
   "metadata": {},
   "outputs": [],
   "source": [
    "# Create a new vector in the dataframe with model's predicted values \n",
    "test$rf_tuned5_preds <- predict(mod_rf_tuned5, test)"
   ]
  },
  {
   "cell_type": "code",
   "execution_count": 94,
   "metadata": {},
   "outputs": [
    {
     "data": {
      "text/html": [
       "0.840243477718578"
      ],
      "text/latex": [
       "0.840243477718578"
      ],
      "text/markdown": [
       "0.840243477718578"
      ],
      "text/plain": [
       "[1] 0.8402435"
      ]
     },
     "metadata": {},
     "output_type": "display_data"
    }
   ],
   "source": [
    "# Calculate out-of-sample R2\n",
    "mod_rf_tuned5_OSR2 <- OSR2(test$rf_tuned5_preds, test$BioCNG5daysAhead, train$BioCNG5daysAhead)\n",
    "mod_rf_tuned5_OSR2"
   ]
  },
  {
   "cell_type": "code",
   "execution_count": 95,
   "metadata": {},
   "outputs": [],
   "source": [
    "# # Check model performance\n",
    "# mod_rf_tuned5"
   ]
  },
  {
   "cell_type": "code",
   "execution_count": 96,
   "metadata": {},
   "outputs": [],
   "source": [
    "# # Visualize tuning results\n",
    "# ggplot(mod_rf_tuned5)"
   ]
  },
  {
   "cell_type": "markdown",
   "metadata": {},
   "source": [
    "#### XGBoost"
   ]
  },
  {
   "cell_type": "code",
   "execution_count": 97,
   "metadata": {},
   "outputs": [],
   "source": [
    "#Train model\n",
    "mod_xgb_tuned5 <-train(f5,\n",
    "                     data=train,\n",
    "                     method=\"xgbTree\",\n",
    "                     verbose=F,\n",
    "                     metric=\"RMSE\",\n",
    "                     tuneLength = 3)"
   ]
  },
  {
   "cell_type": "code",
   "execution_count": 98,
   "metadata": {},
   "outputs": [],
   "source": [
    "# Create a new vector in the dataframe with model's predicted values \n",
    "test$xgb_tuned5_preds <- predict(mod_xgb_tuned5, test)"
   ]
  },
  {
   "cell_type": "code",
   "execution_count": 99,
   "metadata": {},
   "outputs": [
    {
     "data": {
      "text/html": [
       "0.78607728276716"
      ],
      "text/latex": [
       "0.78607728276716"
      ],
      "text/markdown": [
       "0.78607728276716"
      ],
      "text/plain": [
       "[1] 0.7860773"
      ]
     },
     "metadata": {},
     "output_type": "display_data"
    }
   ],
   "source": [
    "# Calculate out-of-sample R2\n",
    "mod_xgb_tuned5_OSR2 <- OSR2(test$xgb_tuned5_preds, test$BioCNG5daysAhead, train$BioCNG5daysAhead)\n",
    "mod_xgb_tuned5_OSR2"
   ]
  },
  {
   "cell_type": "code",
   "execution_count": 100,
   "metadata": {},
   "outputs": [],
   "source": [
    "# # Check model performance\n",
    "# mod_xgb_tuned5"
   ]
  },
  {
   "cell_type": "code",
   "execution_count": 101,
   "metadata": {},
   "outputs": [],
   "source": [
    "# # Visualize tuning results\n",
    "# plot(mod_xgb_tuned5)"
   ]
  },
  {
   "cell_type": "markdown",
   "metadata": {},
   "source": [
    "### Testing optimal time frame: 3 days"
   ]
  },
  {
   "cell_type": "markdown",
   "metadata": {},
   "source": [
    "#### Elastic net"
   ]
  },
  {
   "cell_type": "code",
   "execution_count": 102,
   "metadata": {},
   "outputs": [],
   "source": [
    "#Train model\n",
    "mod_enet_tuned3 <-train(f3,\n",
    "                     data=train,\n",
    "                     method=\"glmnet\",\n",
    "                     metric=\"RMSE\",\n",
    "                     tuneLength = 5)"
   ]
  },
  {
   "cell_type": "code",
   "execution_count": 103,
   "metadata": {},
   "outputs": [],
   "source": [
    "# Create a new vector in the dataframe with model's predicted values \n",
    "test$enet3_preds <- predict(mod_enet_tuned3, test)"
   ]
  },
  {
   "cell_type": "code",
   "execution_count": 104,
   "metadata": {},
   "outputs": [
    {
     "data": {
      "text/html": [
       "0.773066975616067"
      ],
      "text/latex": [
       "0.773066975616067"
      ],
      "text/markdown": [
       "0.773066975616067"
      ],
      "text/plain": [
       "[1] 0.773067"
      ]
     },
     "metadata": {},
     "output_type": "display_data"
    }
   ],
   "source": [
    "# Calculate out-of-sample R2\n",
    "enet3_OSR2 <- OSR2(test$enet3_preds, test$BioCNG3daysAhead, train$BioCNG3daysAhead)\n",
    "enet3_OSR2"
   ]
  },
  {
   "cell_type": "code",
   "execution_count": 105,
   "metadata": {},
   "outputs": [],
   "source": [
    "# # Check model performance\n",
    "# mod_enet_tuned3"
   ]
  },
  {
   "cell_type": "code",
   "execution_count": 106,
   "metadata": {},
   "outputs": [],
   "source": [
    "# # Visualize tuning results\n",
    "# ggplot(mod_enet_tuned3)"
   ]
  },
  {
   "cell_type": "markdown",
   "metadata": {},
   "source": [
    "#### Random forest"
   ]
  },
  {
   "cell_type": "code",
   "execution_count": 107,
   "metadata": {},
   "outputs": [],
   "source": [
    "# Train model\n",
    "mod_rf_tuned3 <- train(f3,\n",
    "           data = train,             \n",
    "           method = \"ranger\", \n",
    "           metric = \"RMSE\", \n",
    "           tuneLength = 5, importance = \"impurity\")"
   ]
  },
  {
   "cell_type": "code",
   "execution_count": 108,
   "metadata": {},
   "outputs": [],
   "source": [
    "# Create a new vector in the dataframe with model's predicted values \n",
    "test$rf_tuned3_preds <- predict(mod_rf_tuned3, test)"
   ]
  },
  {
   "cell_type": "code",
   "execution_count": 109,
   "metadata": {},
   "outputs": [
    {
     "data": {
      "text/html": [
       "0.856968624423097"
      ],
      "text/latex": [
       "0.856968624423097"
      ],
      "text/markdown": [
       "0.856968624423097"
      ],
      "text/plain": [
       "[1] 0.8569686"
      ]
     },
     "metadata": {},
     "output_type": "display_data"
    }
   ],
   "source": [
    "# Calculate out-of-sample R2\n",
    "mod_rf_tuned3_OSR2 <- OSR2(test$rf_tuned3_preds, test$BioCNG3daysAhead, train$BioCNG3daysAhead)\n",
    "mod_rf_tuned3_OSR2"
   ]
  },
  {
   "cell_type": "code",
   "execution_count": 110,
   "metadata": {},
   "outputs": [],
   "source": [
    "# # Check model performance\n",
    "# mod_rf_tuned3"
   ]
  },
  {
   "cell_type": "code",
   "execution_count": 111,
   "metadata": {},
   "outputs": [],
   "source": [
    "# # Visualize tuning results\n",
    "# ggplot(mod_rf_tuned3)"
   ]
  },
  {
   "cell_type": "markdown",
   "metadata": {},
   "source": [
    "#### XGBoost"
   ]
  },
  {
   "cell_type": "code",
   "execution_count": 112,
   "metadata": {},
   "outputs": [],
   "source": [
    "#Train model\n",
    "mod_xgb_tuned3 <-train(f3,\n",
    "                     data=train,\n",
    "                     method=\"xgbTree\",\n",
    "                     verbose=F,\n",
    "                     metric=\"RMSE\",\n",
    "                     tuneLength = 3)"
   ]
  },
  {
   "cell_type": "code",
   "execution_count": 113,
   "metadata": {},
   "outputs": [],
   "source": [
    "# Create a new vector in the dataframe with model's predicted values \n",
    "test$xgb_tuned3_preds <- predict(mod_xgb_tuned3, test)"
   ]
  },
  {
   "cell_type": "code",
   "execution_count": 114,
   "metadata": {},
   "outputs": [
    {
     "data": {
      "text/html": [
       "0.858344151629481"
      ],
      "text/latex": [
       "0.858344151629481"
      ],
      "text/markdown": [
       "0.858344151629481"
      ],
      "text/plain": [
       "[1] 0.8583442"
      ]
     },
     "metadata": {},
     "output_type": "display_data"
    }
   ],
   "source": [
    "# Calculate out-of-sample R2\n",
    "mod_xgb_tuned3_OSR2 <- OSR2(test$xgb_tuned3_preds, test$BioCNG3daysAhead, train$BioCNG3daysAhead)\n",
    "mod_xgb_tuned3_OSR2"
   ]
  },
  {
   "cell_type": "code",
   "execution_count": 115,
   "metadata": {},
   "outputs": [],
   "source": [
    "# # Check model performance\n",
    "# mod_xgb_tuned3"
   ]
  },
  {
   "cell_type": "code",
   "execution_count": 116,
   "metadata": {},
   "outputs": [],
   "source": [
    "# # Visualize tuning results\n",
    "# plot(mod_xgb_tuned3)"
   ]
  },
  {
   "cell_type": "markdown",
   "metadata": {},
   "source": [
    "### Testing optimal time frame: 1 day"
   ]
  },
  {
   "cell_type": "markdown",
   "metadata": {},
   "source": [
    "#### Elastic net"
   ]
  },
  {
   "cell_type": "code",
   "execution_count": 117,
   "metadata": {},
   "outputs": [],
   "source": [
    "#Train model\n",
    "mod_enet_tuned1 <-train(f1,\n",
    "                     data=train,\n",
    "                     method=\"glmnet\",\n",
    "                     metric=\"RMSE\",\n",
    "                     tuneLength = 5)"
   ]
  },
  {
   "cell_type": "code",
   "execution_count": 118,
   "metadata": {},
   "outputs": [],
   "source": [
    "# Create a new vector in the dataframe with model's predicted values \n",
    "test$enet1_preds <- predict(mod_enet_tuned1, test)"
   ]
  },
  {
   "cell_type": "code",
   "execution_count": 119,
   "metadata": {},
   "outputs": [
    {
     "data": {
      "text/html": [
       "0.854171717797308"
      ],
      "text/latex": [
       "0.854171717797308"
      ],
      "text/markdown": [
       "0.854171717797308"
      ],
      "text/plain": [
       "[1] 0.8541717"
      ]
     },
     "metadata": {},
     "output_type": "display_data"
    }
   ],
   "source": [
    "# Calculate out-of-sample R2\n",
    "enet1_OSR2 <- OSR2(test$enet1_preds, test$BioCNG1daysAhead, train$BioCNG1daysAhead)\n",
    "enet1_OSR2"
   ]
  },
  {
   "cell_type": "code",
   "execution_count": 120,
   "metadata": {},
   "outputs": [],
   "source": [
    "# # Check model performance\n",
    "# mod_enet_tuned1"
   ]
  },
  {
   "cell_type": "code",
   "execution_count": 121,
   "metadata": {},
   "outputs": [],
   "source": [
    "# # Visualize tuning results\n",
    "# ggplot(mod_enet_tuned1)"
   ]
  },
  {
   "cell_type": "markdown",
   "metadata": {},
   "source": [
    "#### Random forest"
   ]
  },
  {
   "cell_type": "code",
   "execution_count": 122,
   "metadata": {},
   "outputs": [],
   "source": [
    "# Train model\n",
    "mod_rf_tuned1 <- train(f1,\n",
    "           data = train,             \n",
    "           method = \"ranger\", \n",
    "           metric = \"RMSE\", \n",
    "           tuneLength = 5, importance = \"impurity\")"
   ]
  },
  {
   "cell_type": "code",
   "execution_count": 123,
   "metadata": {},
   "outputs": [],
   "source": [
    "# Create a new vector in the dataframe with model's predicted values \n",
    "test$rf_tuned1_preds <- predict(mod_rf_tuned1, test)"
   ]
  },
  {
   "cell_type": "code",
   "execution_count": 124,
   "metadata": {},
   "outputs": [
    {
     "data": {
      "text/html": [
       "0.878786732135743"
      ],
      "text/latex": [
       "0.878786732135743"
      ],
      "text/markdown": [
       "0.878786732135743"
      ],
      "text/plain": [
       "[1] 0.8787867"
      ]
     },
     "metadata": {},
     "output_type": "display_data"
    }
   ],
   "source": [
    "# Calculate out-of-sample R2\n",
    "mod_rf_tuned1_OSR2 <- OSR2(test$rf_tuned1_preds, test$BioCNG1daysAhead, train$BioCNG1daysAhead)\n",
    "mod_rf_tuned1_OSR2"
   ]
  },
  {
   "cell_type": "code",
   "execution_count": 141,
   "metadata": {},
   "outputs": [],
   "source": [
    "# # Check model performance\n",
    "# mod_rf_tuned1"
   ]
  },
  {
   "cell_type": "code",
   "execution_count": 126,
   "metadata": {},
   "outputs": [],
   "source": [
    "# # Visualize tuning \n",
    "# ggplot(mod_rf_tuned1)"
   ]
  },
  {
   "cell_type": "markdown",
   "metadata": {},
   "source": [
    "#### XGBoost"
   ]
  },
  {
   "cell_type": "code",
   "execution_count": 127,
   "metadata": {},
   "outputs": [],
   "source": [
    "#Train model\n",
    "mod_xgb_tuned1 <-train(f1,\n",
    "                     data=train,\n",
    "                     method=\"xgbTree\",\n",
    "                     verbose=F,\n",
    "                     metric=\"RMSE\", importance = \"impurity\",\n",
    "                     tuneLength = 3)"
   ]
  },
  {
   "cell_type": "code",
   "execution_count": 128,
   "metadata": {},
   "outputs": [],
   "source": [
    "# Create a new vector in the dataframe with model's predicted values \n",
    "test$xgb_tuned1_preds <- predict(mod_xgb_tuned1, test)"
   ]
  },
  {
   "cell_type": "code",
   "execution_count": 129,
   "metadata": {},
   "outputs": [
    {
     "data": {
      "text/html": [
       "0.869411412909385"
      ],
      "text/latex": [
       "0.869411412909385"
      ],
      "text/markdown": [
       "0.869411412909385"
      ],
      "text/plain": [
       "[1] 0.8694114"
      ]
     },
     "metadata": {},
     "output_type": "display_data"
    }
   ],
   "source": [
    "# Calculate out-of-sample R2\n",
    "mod_xgb_tuned1_OSR2 <- OSR2(test$xgb_tuned1_preds, test$BioCNG1daysAhead, train$BioCNG1daysAhead)\n",
    "mod_xgb_tuned1_OSR2"
   ]
  },
  {
   "cell_type": "code",
   "execution_count": 143,
   "metadata": {},
   "outputs": [],
   "source": [
    "# # Check model performance\n",
    "# mod_xgb_tuned1"
   ]
  },
  {
   "cell_type": "code",
   "execution_count": 145,
   "metadata": {},
   "outputs": [],
   "source": [
    "# # Visualize tuning \n",
    "# plot(mod_xgb_tuned1)"
   ]
  },
  {
   "cell_type": "markdown",
   "metadata": {},
   "source": [
    "### Model comparison"
   ]
  },
  {
   "cell_type": "markdown",
   "metadata": {},
   "source": [
    "#### 1 day"
   ]
  },
  {
   "cell_type": "code",
   "execution_count": 192,
   "metadata": {
    "scrolled": false
   },
   "outputs": [],
   "source": [
    "compare_1 <- select(test,Day.Nber)\n",
    "names(compare_1)[1]<-\"DayNo\"\n",
    "\n",
    "compare_1$BioCNG1daysAhead <- test$BioCNG1daysAhead\n",
    "compare_1$enet1_preds <- test$enet1_preds\n",
    "compare_1$rf_tuned1_preds <- test$rf_tuned1_preds\n",
    "compare_1$xgb_tuned1_preds <- test$xgb_tuned1_preds\n",
    "\n",
    "compare_1 <- melt(compare_1, id = \"DayNo\")\n",
    "\n",
    "compareplot_1 <- ggplot(data=compare_1,\n",
    "       aes(x=DayNo, y=value, colour=variable)) +\n",
    "       ggtitle(\"1 day\") + \n",
    "       theme(plot.title = element_text(size = 8)) +\n",
    "       geom_line(alpha=0.5,size=0.2) +\n",
    "       theme(text = element_text(size = 9)) \n",
    "\n",
    "# compareplot_1"
   ]
  },
  {
   "cell_type": "markdown",
   "metadata": {},
   "source": [
    "#### 3 days"
   ]
  },
  {
   "cell_type": "code",
   "execution_count": 193,
   "metadata": {},
   "outputs": [],
   "source": [
    "compare_3 <- select(test,Day.Nber)\n",
    "names(compare_3)[1]<-\"DayNo\"\n",
    "\n",
    "compare_3$BioCNG3daysAhead <- test$BioCNG3daysAhead\n",
    "compare_3$enet3_preds <- test$enet3_preds\n",
    "compare_3$rf_tuned3_preds <- test$rf_tuned3_preds\n",
    "compare_3$xgb_tuned3_preds <- test$xgb_tuned3_preds\n",
    "\n",
    "compare_3 <- melt(compare_3, id = \"DayNo\")\n",
    "\n",
    "compareplot_3 <- ggplot(data=compare_3,\n",
    "       aes(x=DayNo, y=value, colour=variable)) + \n",
    "       ggtitle(\"3 days\") + \n",
    "       theme(plot.title = element_text(size = 8)) +\n",
    "       geom_line(alpha=0.5,size=0.2) +\n",
    "       theme(text = element_text(size = 9))  \n",
    "\n",
    "# compareplot_3"
   ]
  },
  {
   "cell_type": "markdown",
   "metadata": {},
   "source": [
    "#### 5 days"
   ]
  },
  {
   "cell_type": "code",
   "execution_count": 194,
   "metadata": {},
   "outputs": [],
   "source": [
    "compare_5 <- select(test,Day.Nber)\n",
    "names(compare_5)[1]<-\"DayNo\"\n",
    "\n",
    "compare_5$BioCNG5daysAhead <- test$BioCNG5daysAhead\n",
    "compare_5$enet5_preds <- test$enet5_preds\n",
    "compare_5$rf_tuned5_preds <- test$rf_tuned5_preds\n",
    "compare_5$xgb_tuned5_preds <- test$xgb_tuned5_preds\n",
    "\n",
    "compare_5 <- melt(compare_5, id = \"DayNo\")\n",
    "\n",
    "compareplot_5 <- ggplot(data=compare_5,\n",
    "       aes(x=DayNo, y=value, colour=variable)) + \n",
    "       ggtitle(\"5 days\") + \n",
    "       theme(plot.title = element_text(size = 8)) +\n",
    "       geom_line(alpha=0.5,size=0.2) +\n",
    "       theme(text = element_text(size = 9)) \n",
    "\n",
    "# compareplot_5"
   ]
  },
  {
   "cell_type": "markdown",
   "metadata": {},
   "source": [
    "#### 10 days"
   ]
  },
  {
   "cell_type": "code",
   "execution_count": 304,
   "metadata": {},
   "outputs": [],
   "source": [
    "compare_10 <- select(test,Day.Nber)\n",
    "names(compare_10)[1]<-\"DayNo\"\n",
    "\n",
    "compare_10$BioCNG10daysAhead <- test$BioCNG10daysAhead\n",
    "compare_10$enet10_preds <- test$enet10_preds\n",
    "compare_10$rf_tuned10_preds <- test$rf_tuned10_preds\n",
    "compare_10$xgb_tuned10_preds <- test$xgb_tuned10_preds\n",
    "\n",
    "compare_10 <- melt(compare_10, id = \"DayNo\")\n",
    "\n",
    "compareplot_10 <- ggplot(data=compare_10,\n",
    "       aes(x=DayNo, y=value, colour=variable)) +\n",
    "       ggtitle(\"10 days\") + \n",
    "       theme(plot.title = element_text(size = 8)) +\n",
    "       geom_line(alpha=0.5,size=0.2) +\n",
    "       theme(text = element_text(size = 9)) \n",
    "\n",
    "# compareplot_10"
   ]
  },
  {
   "cell_type": "markdown",
   "metadata": {},
   "source": [
    "#### 20 days"
   ]
  },
  {
   "cell_type": "code",
   "execution_count": 196,
   "metadata": {},
   "outputs": [],
   "source": [
    "compare_20 <- select(test,Day.Nber)\n",
    "names(compare_20)[1]<-\"DayNo\"\n",
    "\n",
    "compare_20$BioCNG20daysAhead <- test$BioCNG20daysAhead\n",
    "compare_20$enet20_preds <- test$enet20_preds\n",
    "compare_20$rf_tuned20_preds <- test$rf_tuned20_preds\n",
    "compare_20$xgb_tuned20_preds <- test$xgb_tuned20_preds\n",
    "\n",
    "compare_20 <- melt(compare_20, id = \"DayNo\")\n",
    "\n",
    "compareplot_20 <- ggplot(data=compare_20,\n",
    "       aes(x=DayNo, y=value, colour=variable)) + \n",
    "       ggtitle(\"20 days\") + \n",
    "       theme(plot.title = element_text(size = 8)) +\n",
    "       geom_line(alpha=0.5,size=0.2) +\n",
    "       theme(text = element_text(size = 9)) \n",
    "\n",
    "# compareplot_20"
   ]
  },
  {
   "cell_type": "markdown",
   "metadata": {},
   "source": [
    "#### 30 days"
   ]
  },
  {
   "cell_type": "code",
   "execution_count": 197,
   "metadata": {},
   "outputs": [],
   "source": [
    "compare_30 <- select(test,Day.Nber)\n",
    "names(compare_30)[1]<-\"DayNo\"\n",
    "\n",
    "compare_30$BioCNG30daysAhead <- test$BioCNG30daysAhead\n",
    "compare_30$enet30_preds <- test$enet30_preds\n",
    "compare_30$rf_tuned30_preds <- test$rf_tuned30_preds\n",
    "compare_30$xgb_tuned30_preds <- test$xgb_tuned30_preds\n",
    "\n",
    "compare_30 <- melt(compare_30, id = \"DayNo\")\n",
    "\n",
    "compareplot_30 <- ggplot(data=compare_30,\n",
    "       aes(x=DayNo, y=value, colour=variable)) +\n",
    "       ggtitle(\"30 days\") + \n",
    "       theme(plot.title = element_text(size = 8)) +\n",
    "       geom_line(alpha=0.5,size=0.2) +\n",
    "       theme(text = element_text(size = 9)) \n",
    "\n",
    "# compareplot_30"
   ]
  },
  {
   "cell_type": "markdown",
   "metadata": {},
   "source": [
    "#### 40 days"
   ]
  },
  {
   "cell_type": "code",
   "execution_count": 198,
   "metadata": {},
   "outputs": [],
   "source": [
    "compare_40 <- select(test,Day.Nber)\n",
    "names(compare_40)[1]<-\"DayNo\"\n",
    "\n",
    "compare_40$BioCNG40daysAhead <- test$BioCNG40daysAhead\n",
    "compare_40$enet40_preds <- test$enet40_preds\n",
    "compare_40$rf_tuned40_preds <- test$rf_tuned40_preds\n",
    "compare_40$xgb_tuned40_preds <- test$xgb_tuned40_preds\n",
    "\n",
    "compare_40 <- melt(compare_40, id = \"DayNo\")\n",
    "\n",
    "compareplot_40 <- ggplot(data=compare_40,\n",
    "       aes(x=DayNo, y=value, colour=variable)) + \n",
    "       ggtitle(\"40 days\") + \n",
    "       theme(plot.title = element_text(size = 8)) +\n",
    "       geom_line(alpha=0.5,size=0.2) +\n",
    "       theme(text = element_text(size = 9)) \n",
    "\n",
    "# compareplot_40"
   ]
  },
  {
   "cell_type": "code",
   "execution_count": 305,
   "metadata": {},
   "outputs": [
    {
     "data": {},
     "metadata": {},
     "output_type": "display_data"
    },
    {
     "data": {
      "image/png": "[encoded data removed]",
      "text/plain": [
       "plot without title"
      ]
     },
     "metadata": {},
     "output_type": "display_data"
    }
   ],
   "source": [
    "# grid.arrange(compareplot_30, compareplot_40, common.legend = TRUE, legend=\"bottom\")\n",
    "ggarrange(compareplot_1, compareplot_5, compareplot_10, \n",
    "          compareplot_20, compareplot_30, compareplot_40, common.legend = TRUE, legend=\"bottom\")"
   ]
  },
  {
   "cell_type": "markdown",
   "metadata": {},
   "source": [
    "### Model comparison 2: comparison of sum of test data output with predictions"
   ]
  },
  {
   "cell_type": "code",
   "execution_count": 146,
   "metadata": {},
   "outputs": [
    {
     "data": {
      "text/html": [
       "'Total sum of actual 40-day output was: 1481240.69'"
      ],
      "text/latex": [
       "'Total sum of actual 40-day output was: 1481240.69'"
      ],
      "text/markdown": [
       "'Total sum of actual 40-day output was: 1481240.69'"
      ],
      "text/plain": [
       "[1] \"Total sum of actual 40-day output was: 1481240.69\""
      ]
     },
     "metadata": {},
     "output_type": "display_data"
    },
    {
     "data": {
      "text/html": [
       "'Total sum of Elasticnet predicted 40-day output was: 1933671.08465033'"
      ],
      "text/latex": [
       "'Total sum of Elasticnet predicted 40-day output was: 1933671.08465033'"
      ],
      "text/markdown": [
       "'Total sum of Elasticnet predicted 40-day output was: 1933671.08465033'"
      ],
      "text/plain": [
       "[1] \"Total sum of Elasticnet predicted 40-day output was: 1933671.08465033\""
      ]
     },
     "metadata": {},
     "output_type": "display_data"
    },
    {
     "data": {
      "text/html": [
       "'Total sum of random forest predicted 40-day output was: 1513083.0722062'"
      ],
      "text/latex": [
       "'Total sum of random forest predicted 40-day output was: 1513083.0722062'"
      ],
      "text/markdown": [
       "'Total sum of random forest predicted 40-day output was: 1513083.0722062'"
      ],
      "text/plain": [
       "[1] \"Total sum of random forest predicted 40-day output was: 1513083.0722062\""
      ]
     },
     "metadata": {},
     "output_type": "display_data"
    },
    {
     "data": {
      "text/html": [
       "'Total sum of XGboost predicted 40-day output was: 1576254.34082031'"
      ],
      "text/latex": [
       "'Total sum of XGboost predicted 40-day output was: 1576254.34082031'"
      ],
      "text/markdown": [
       "'Total sum of XGboost predicted 40-day output was: 1576254.34082031'"
      ],
      "text/plain": [
       "[1] \"Total sum of XGboost predicted 40-day output was: 1576254.34082031\""
      ]
     },
     "metadata": {},
     "output_type": "display_data"
    }
   ],
   "source": [
    "paste(\"Total sum of actual 40-day output was:\", \n",
    "      filter(compare_40, variable == \"BioCNG40daysAhead\") %>% select(value) %>% sum())\n",
    "\n",
    "paste(\"Total sum of Elasticnet predicted 40-day output was:\", \n",
    "      filter(compare_40, variable == \"enet40_preds\") %>% select(value) %>% sum())\n",
    "\n",
    "paste(\"Total sum of random forest predicted 40-day output was:\", \n",
    "      filter(compare_40, variable == \"rf_tuned40_preds\") %>% select(value) %>% sum())\n",
    "\n",
    "paste(\"Total sum of XGboost predicted 40-day output was:\", \n",
    "      filter(compare_40, variable == \"xgb_tuned40_preds\") %>% select(value) %>% sum())"
   ]
  },
  {
   "cell_type": "code",
   "execution_count": 147,
   "metadata": {},
   "outputs": [],
   "source": [
    "# TimeLead <- c('1 day', '3 days', '5 days', '10 days', '20 days', '30 days', '40 days')\n",
    "TimeLead <- c(1,3,5,10,20,30,40)\n",
    "\n",
    "ActualOutput <- c(filter(compare_1, variable == \"BioCNG1daysAhead\") %>% select(value) %>% sum(),\n",
    "                  filter(compare_3, variable == \"BioCNG3daysAhead\") %>% select(value) %>% sum(),\n",
    "                  filter(compare_5, variable == \"BioCNG5daysAhead\") %>% select(value) %>% sum(),\n",
    "                  filter(compare_10, variable == \"BioCNG10daysAhead\") %>% select(value) %>% sum(),\n",
    "                  filter(compare_20, variable == \"BioCNG20daysAhead\") %>% select(value) %>% sum(),\n",
    "                  filter(compare_30, variable == \"BioCNG30daysAhead\") %>% select(value) %>% sum(),\n",
    "                  filter(compare_40, variable == \"BioCNG40daysAhead\") %>% select(value) %>% sum())\n",
    "\n",
    "ElasticNet <- c(filter(compare_1, variable == \"enet1_preds\") %>% select(value) %>% sum(),\n",
    "                  filter(compare_3, variable == \"enet3_preds\") %>% select(value) %>% sum(),\n",
    "                  filter(compare_5, variable == \"enet5_preds\") %>% select(value) %>% sum(),\n",
    "                  filter(compare_10, variable == \"enet10_preds\") %>% select(value) %>% sum(),\n",
    "                  filter(compare_20, variable == \"enet20_preds\") %>% select(value) %>% sum(),\n",
    "                  filter(compare_30, variable == \"enet30_preds\") %>% select(value) %>% sum(),\n",
    "                  filter(compare_40, variable == \"enet40_preds\") %>% select(value) %>% sum())\n",
    "\n",
    "RandomForest <- c(filter(compare_1, variable == \"rf_tuned1_preds\") %>% select(value) %>% sum(),\n",
    "                  filter(compare_3, variable == \"rf_tuned3_preds\") %>% select(value) %>% sum(),\n",
    "                  filter(compare_5, variable == \"rf_tuned5_preds\") %>% select(value) %>% sum(),\n",
    "                  filter(compare_10, variable == \"rf_tuned10_preds\") %>% select(value) %>% sum(),\n",
    "                  filter(compare_20, variable == \"rf_tuned20_preds\") %>% select(value) %>% sum(),\n",
    "                  filter(compare_30, variable == \"rf_tuned30_preds\") %>% select(value) %>% sum(),\n",
    "                  filter(compare_40, variable == \"rf_tuned40_preds\") %>% select(value) %>% sum())\n",
    "\n",
    "XGboost <- c(filter(compare_1, variable == \"xgb_tuned1_preds\") %>% select(value) %>% sum(),\n",
    "                  filter(compare_3, variable == \"xgb_tuned3_preds\") %>% select(value) %>% sum(),\n",
    "                  filter(compare_5, variable == \"xgb_tuned5_preds\") %>% select(value) %>% sum(),\n",
    "                  filter(compare_10, variable == \"xgb_tuned10_preds\") %>% select(value) %>% sum(),\n",
    "                  filter(compare_20, variable == \"xgb_tuned20_preds\") %>% select(value) %>% sum(),\n",
    "                  filter(compare_30, variable == \"xgb_tuned30_preds\") %>% select(value) %>% sum(),\n",
    "                  filter(compare_40, variable == \"xgb_tuned40_preds\") %>% select(value) %>% sum())"
   ]
  },
  {
   "cell_type": "code",
   "execution_count": 148,
   "metadata": {},
   "outputs": [],
   "source": [
    "performance <- data.frame(TimeLead, ActualOutput, ElasticNet, RandomForest, XGboost)\n",
    "performance2 <- melt(performance, id=\"TimeLead\")"
   ]
  },
  {
   "cell_type": "code",
   "execution_count": 149,
   "metadata": {},
   "outputs": [
    {
     "data": {},
     "metadata": {},
     "output_type": "display_data"
    },
    {
     "data": {
      "image/png": "[encoded data removed]",
      "text/plain": [
       "plot without title"
      ]
     },
     "metadata": {},
     "output_type": "display_data"
    }
   ],
   "source": [
    "ggplot(performance2, aes(variable, value)) + geom_bar(stat=\"identity\") + facet_wrap(~TimeLead, scales = \"free_x\") +\n",
    "    theme(axis.text.x = element_text(size=6,angle=90), legend.position =\"bottom\") +\n",
    "    labs(title = \"Sum of BioCNG output over test data period, per time lead\", x=\"Model\", y=\"BioCNG (m3)\") +\n",
    "    theme_bw(base_size=6.5)"
   ]
  },
  {
   "cell_type": "code",
   "execution_count": 150,
   "metadata": {},
   "outputs": [],
   "source": [
    "TimeLead <- c(1, 3, 5, 10, 20, 30, 40)\n",
    "ElasticNet <- c(enet1_OSR2, enet3_OSR2, enet5_OSR2, enet10_OSR2, enet20_OSR2, enet30_OSR2, enet40_OSR2)\n",
    "RandomForest <- c(mod_rf_tuned1_OSR2, mod_rf_tuned3_OSR2, mod_rf_tuned5_OSR2, mod_rf_tuned10_OSR2, mod_rf_tuned20_OSR2, mod_rf_tuned30_OSR2, mod_rf_tuned40_OSR2)\n",
    "XGBoost <- c(mod_xgb_tuned1_OSR2, mod_xgb_tuned3_OSR2, mod_xgb_tuned5_OSR2, mod_xgb_tuned10_OSR2, mod_xgb_tuned20_OSR2, mod_xgb_tuned30_OSR2, mod_xgb_tuned40_OSR2)"
   ]
  },
  {
   "cell_type": "code",
   "execution_count": 151,
   "metadata": {},
   "outputs": [],
   "source": [
    "performance <- data.frame(TimeLead, ElasticNet, RandomForest, XGBoost)"
   ]
  },
  {
   "cell_type": "code",
   "execution_count": 306,
   "metadata": {},
   "outputs": [
    {
     "data": {
      "text/html": [
       "<table>\n",
       "<thead><tr><th scope=col>TimeLead</th><th scope=col>variable</th><th scope=col>value</th></tr></thead>\n",
       "<tbody>\n",
       "\t<tr><td> 1          </td><td>ElasticNet  </td><td>0.8541717   </td></tr>\n",
       "\t<tr><td> 3          </td><td>ElasticNet  </td><td>0.7730670   </td></tr>\n",
       "\t<tr><td> 5          </td><td>ElasticNet  </td><td>0.7350868   </td></tr>\n",
       "\t<tr><td>10          </td><td>ElasticNet  </td><td>0.6820954   </td></tr>\n",
       "\t<tr><td>20          </td><td>ElasticNet  </td><td>0.7035611   </td></tr>\n",
       "\t<tr><td>30          </td><td>ElasticNet  </td><td>0.6119092   </td></tr>\n",
       "\t<tr><td>40          </td><td>ElasticNet  </td><td>0.5037208   </td></tr>\n",
       "\t<tr><td> 1          </td><td>RandomForest</td><td>0.8787867   </td></tr>\n",
       "\t<tr><td> 3          </td><td>RandomForest</td><td>0.8569686   </td></tr>\n",
       "\t<tr><td> 5          </td><td>RandomForest</td><td>0.8402435   </td></tr>\n",
       "\t<tr><td>10          </td><td>RandomForest</td><td>0.8507205   </td></tr>\n",
       "\t<tr><td>20          </td><td>RandomForest</td><td>0.8311983   </td></tr>\n",
       "\t<tr><td>30          </td><td>RandomForest</td><td>0.8230432   </td></tr>\n",
       "\t<tr><td>40          </td><td>RandomForest</td><td>0.8197055   </td></tr>\n",
       "\t<tr><td> 1          </td><td>XGBoost     </td><td>0.8694114   </td></tr>\n",
       "\t<tr><td> 3          </td><td>XGBoost     </td><td>0.8583442   </td></tr>\n",
       "\t<tr><td> 5          </td><td>XGBoost     </td><td>0.7860773   </td></tr>\n",
       "\t<tr><td>10          </td><td>XGBoost     </td><td>0.8183255   </td></tr>\n",
       "\t<tr><td>20          </td><td>XGBoost     </td><td>0.7743696   </td></tr>\n",
       "\t<tr><td>30          </td><td>XGBoost     </td><td>0.8148348   </td></tr>\n",
       "\t<tr><td>40          </td><td>XGBoost     </td><td>0.8024529   </td></tr>\n",
       "</tbody>\n",
       "</table>\n"
      ],
      "text/latex": [
       "\\begin{tabular}{r|lll}\n",
       " TimeLead & variable & value\\\\\n",
       "\\hline\n",
       "\t  1           & ElasticNet   & 0.8541717   \\\\\n",
       "\t  3           & ElasticNet   & 0.7730670   \\\\\n",
       "\t  5           & ElasticNet   & 0.7350868   \\\\\n",
       "\t 10           & ElasticNet   & 0.6820954   \\\\\n",
       "\t 20           & ElasticNet   & 0.7035611   \\\\\n",
       "\t 30           & ElasticNet   & 0.6119092   \\\\\n",
       "\t 40           & ElasticNet   & 0.5037208   \\\\\n",
       "\t  1           & RandomForest & 0.8787867   \\\\\n",
       "\t  3           & RandomForest & 0.8569686   \\\\\n",
       "\t  5           & RandomForest & 0.8402435   \\\\\n",
       "\t 10           & RandomForest & 0.8507205   \\\\\n",
       "\t 20           & RandomForest & 0.8311983   \\\\\n",
       "\t 30           & RandomForest & 0.8230432   \\\\\n",
       "\t 40           & RandomForest & 0.8197055   \\\\\n",
       "\t  1           & XGBoost      & 0.8694114   \\\\\n",
       "\t  3           & XGBoost      & 0.8583442   \\\\\n",
       "\t  5           & XGBoost      & 0.7860773   \\\\\n",
       "\t 10           & XGBoost      & 0.8183255   \\\\\n",
       "\t 20           & XGBoost      & 0.7743696   \\\\\n",
       "\t 30           & XGBoost      & 0.8148348   \\\\\n",
       "\t 40           & XGBoost      & 0.8024529   \\\\\n",
       "\\end{tabular}\n"
      ],
      "text/markdown": [
       "\n",
       "TimeLead | variable | value | \n",
       "|---|---|---|---|---|---|---|---|---|---|---|---|---|---|---|---|---|---|---|---|---|\n",
       "|  1           | ElasticNet   | 0.8541717    | \n",
       "|  3           | ElasticNet   | 0.7730670    | \n",
       "|  5           | ElasticNet   | 0.7350868    | \n",
       "| 10           | ElasticNet   | 0.6820954    | \n",
       "| 20           | ElasticNet   | 0.7035611    | \n",
       "| 30           | ElasticNet   | 0.6119092    | \n",
       "| 40           | ElasticNet   | 0.5037208    | \n",
       "|  1           | RandomForest | 0.8787867    | \n",
       "|  3           | RandomForest | 0.8569686    | \n",
       "|  5           | RandomForest | 0.8402435    | \n",
       "| 10           | RandomForest | 0.8507205    | \n",
       "| 20           | RandomForest | 0.8311983    | \n",
       "| 30           | RandomForest | 0.8230432    | \n",
       "| 40           | RandomForest | 0.8197055    | \n",
       "|  1           | XGBoost      | 0.8694114    | \n",
       "|  3           | XGBoost      | 0.8583442    | \n",
       "|  5           | XGBoost      | 0.7860773    | \n",
       "| 10           | XGBoost      | 0.8183255    | \n",
       "| 20           | XGBoost      | 0.7743696    | \n",
       "| 30           | XGBoost      | 0.8148348    | \n",
       "| 40           | XGBoost      | 0.8024529    | \n",
       "\n",
       "\n"
      ],
      "text/plain": [
       "   TimeLead variable     value    \n",
       "1   1       ElasticNet   0.8541717\n",
       "2   3       ElasticNet   0.7730670\n",
       "3   5       ElasticNet   0.7350868\n",
       "4  10       ElasticNet   0.6820954\n",
       "5  20       ElasticNet   0.7035611\n",
       "6  30       ElasticNet   0.6119092\n",
       "7  40       ElasticNet   0.5037208\n",
       "8   1       RandomForest 0.8787867\n",
       "9   3       RandomForest 0.8569686\n",
       "10  5       RandomForest 0.8402435\n",
       "11 10       RandomForest 0.8507205\n",
       "12 20       RandomForest 0.8311983\n",
       "13 30       RandomForest 0.8230432\n",
       "14 40       RandomForest 0.8197055\n",
       "15  1       XGBoost      0.8694114\n",
       "16  3       XGBoost      0.8583442\n",
       "17  5       XGBoost      0.7860773\n",
       "18 10       XGBoost      0.8183255\n",
       "19 20       XGBoost      0.7743696\n",
       "20 30       XGBoost      0.8148348\n",
       "21 40       XGBoost      0.8024529"
      ]
     },
     "metadata": {},
     "output_type": "display_data"
    }
   ],
   "source": [
    "performance"
   ]
  },
  {
   "cell_type": "code",
   "execution_count": 152,
   "metadata": {},
   "outputs": [],
   "source": [
    "performance <- melt(performance, id=\"TimeLead\")"
   ]
  },
  {
   "cell_type": "code",
   "execution_count": 153,
   "metadata": {},
   "outputs": [
    {
     "data": {},
     "metadata": {},
     "output_type": "display_data"
    },
    {
     "data": {
      "image/png": "[encoded data removed]",
      "text/plain": [
       "plot without title"
      ]
     },
     "metadata": {},
     "output_type": "display_data"
    }
   ],
   "source": [
    "ggplot(data=performance,\n",
    "      aes(x=TimeLead, y=value, group=variable)) + ggtitle(\"Comparison of model performance\") +\n",
    "      xlab(\"Time Lead (days)\") + ylab(\"OSR2\") + geom_line(aes(colour=variable)) +\n",
    "      scale_y_continuous(breaks = round(seq(min(performance$value), max(performance$value), by = 0.2),1)) + \n",
    "      theme(text = element_text(size = 9), legend.position = \"bottom\") "
   ]
  },
  {
   "cell_type": "markdown",
   "metadata": {},
   "source": [
    "## Feature importance"
   ]
  },
  {
   "cell_type": "code",
   "execution_count": 154,
   "metadata": {},
   "outputs": [],
   "source": [
    "imp_rf1 <- ggplot(varImp(mod_rf_tuned1)) + theme(text = element_text(size = 6.5)) + ggtitle(\"1 day\") + theme(plot.title = element_text(size = 6.5))\n",
    "imp_rf3 <- ggplot(varImp(mod_rf_tuned3)) + theme(text = element_text(size = 6.5)) + ggtitle(\"3 days\") + theme(plot.title = element_text(size = 6.5))\n",
    "imp_rf5 <- ggplot(varImp(mod_rf_tuned5)) + theme(text = element_text(size = 6.5)) + ggtitle(\"5 days\") + theme(plot.title = element_text(size = 6.5))\n",
    "imp_rf10 <- ggplot(varImp(mod_rf_tuned10)) + theme(text = element_text(size = 6.5)) + ggtitle(\"10 days\") + theme(plot.title = element_text(size = 6.5))\n",
    "imp_rf20 <- ggplot(varImp(mod_rf_tuned20)) + theme(text = element_text(size = 6.5)) + ggtitle(\"20 days\") + theme(plot.title = element_text(size = 6.5))\n",
    "imp_rf30 <- ggplot(varImp(mod_rf_tuned30)) + theme(text = element_text(size = 6.5)) + ggtitle(\"30 days\") + theme(plot.title = element_text(size = 6.5))\n",
    "imp_rf40 <- ggplot(varImp(mod_rf_tuned40)) + theme(text = element_text(size = 6.5)) + ggtitle(\"40 days\") + theme(plot.title = element_text(size = 6.5))"
   ]
  },
  {
   "cell_type": "code",
   "execution_count": 155,
   "metadata": {},
   "outputs": [
    {
     "data": {},
     "metadata": {},
     "output_type": "display_data"
    },
    {
     "data": {
      "image/png": "[encoded data removed]",
      "text/plain": [
       "plot without title"
      ]
     },
     "metadata": {},
     "output_type": "display_data"
    }
   ],
   "source": [
    "ggarrange(imp_rf1, imp_rf5, imp_rf10, imp_rf20, imp_rf30, imp_rf40) "
   ]
  },
  {
   "cell_type": "code",
   "execution_count": 156,
   "metadata": {},
   "outputs": [],
   "source": [
    "imp_xgb1 <- ggplot(varImp(mod_xgb_tuned1)) + theme(text = element_text(size = 6.5)) + ggtitle(\"1 day\") + theme(plot.title = element_text(size = 6.5))\n",
    "imp_xgb3 <- ggplot(varImp(mod_xgb_tuned3)) + theme(text = element_text(size = 6.5)) + ggtitle(\"3 days\") + theme(plot.title = element_text(size = 6.5))\n",
    "imp_xgb5 <- ggplot(varImp(mod_xgb_tuned5)) + theme(text = element_text(size = 6.5)) + ggtitle(\"5 days\") + theme(plot.title = element_text(size = 6.5))\n",
    "imp_xgb10 <- ggplot(varImp(mod_xgb_tuned10)) + theme(text = element_text(size = 6.5)) + ggtitle(\"10 days\") + theme(plot.title = element_text(size = 6.5))\n",
    "imp_xgb20 <- ggplot(varImp(mod_xgb_tuned20)) + theme(text = element_text(size = 6.5)) + ggtitle(\"20 days\") + theme(plot.title = element_text(size = 6.5))\n",
    "imp_xgb30 <- ggplot(varImp(mod_xgb_tuned30)) + theme(text = element_text(size = 6.5)) + ggtitle(\"30 days\") + theme(plot.title = element_text(size = 6.5))\n",
    "imp_xgb40 <- ggplot(varImp(mod_xgb_tuned40)) + theme(text = element_text(size = 6.5)) + ggtitle(\"40 days\") + theme(plot.title = element_text(size = 6.5))"
   ]
  },
  {
   "cell_type": "code",
   "execution_count": 157,
   "metadata": {
    "scrolled": false
   },
   "outputs": [
    {
     "data": {},
     "metadata": {},
     "output_type": "display_data"
    },
    {
     "data": {
      "image/png": "[encoded data removed]",
      "text/plain": [
       "plot without title"
      ]
     },
     "metadata": {},
     "output_type": "display_data"
    }
   ],
   "source": [
    "ggarrange(imp_xgb1, imp_xgb5, imp_xgb10, imp_xgb20, imp_xgb30, imp_xgb40) "
   ]
  },
  {
   "cell_type": "code",
   "execution_count": 158,
   "metadata": {},
   "outputs": [],
   "source": [
    "# partial(mod_xgb_tuned40, pred.var = \"FoodWaste_Input\", plot = TRUE, plot.engine = \"ggplot2\")"
   ]
  },
  {
   "cell_type": "markdown",
   "metadata": {},
   "source": [
    "## Partial dependence"
   ]
  },
  {
   "cell_type": "code",
   "execution_count": 363,
   "metadata": {},
   "outputs": [],
   "source": [
    "# day 1: total_Input, percoalte, munfec, food waste"
   ]
  },
  {
   "cell_type": "code",
   "execution_count": 182,
   "metadata": {
    "scrolled": true
   },
   "outputs": [],
   "source": [
    "pdp_1 <- mod_rf_tuned20 %>% \n",
    "  partial(pred.var = \"total_Input\") %>%\n",
    "  autoplot(smooth = TRUE, ylab = expression(f(total_Input))) +\n",
    "  theme_light() +\n",
    "  ggtitle(\"total_Input\") +\n",
    "  theme(text = element_text(size = 8))\n",
    "# pdp_1"
   ]
  },
  {
   "cell_type": "code",
   "execution_count": 183,
   "metadata": {},
   "outputs": [],
   "source": [
    "pdp_2 <- mod_rf_tuned20 %>% \n",
    "  partial(pred.var = \"Percolate_Input\") %>%\n",
    "  autoplot(smooth = TRUE, ylab = expression(f(Percolate_Input))) +\n",
    "  theme_light() +\n",
    "  ggtitle(\"Total Percolate_Input\") +\n",
    "  theme(text = element_text(size = 8))\n",
    "# pdp_2"
   ]
  },
  {
   "cell_type": "code",
   "execution_count": 184,
   "metadata": {
    "scrolled": true
   },
   "outputs": [],
   "source": [
    "pdp_3 <- mod_rf_tuned20 %>% \n",
    "  partial(pred.var = \"MunFecalRes_Input\") %>%\n",
    "  autoplot(smooth = TRUE, ylab = expression(f(MunFecalRes_Input))) +\n",
    "  theme_light() +\n",
    "  ggtitle(\"MunFecalRes_Input\") +\n",
    "  theme(text = element_text(size = 8))\n",
    "# pdp_3"
   ]
  },
  {
   "cell_type": "code",
   "execution_count": 185,
   "metadata": {},
   "outputs": [],
   "source": [
    "pdp_4 <- mod_rf_tuned20 %>% \n",
    "  partial(pred.var = \"FoodWaste_Input\") %>%\n",
    "  autoplot(smooth = TRUE, ylab = expression(f(FoodWaste_Input))) +\n",
    "  theme_light() +\n",
    "  ggtitle(\"FoodWaste_Input\") +\n",
    "  theme(text = element_text(size = 8))\n",
    "# pdp_4"
   ]
  },
  {
   "cell_type": "code",
   "execution_count": 186,
   "metadata": {},
   "outputs": [
    {
     "name": "stderr",
     "output_type": "stream",
     "text": [
      "`geom_smooth()` using method = 'loess'\n",
      "`geom_smooth()` using method = 'loess'\n",
      "`geom_smooth()` using method = 'loess'\n",
      "`geom_smooth()` using method = 'loess'\n"
     ]
    },
    {
     "data": {},
     "metadata": {},
     "output_type": "display_data"
    },
    {
     "data": {
      "image/png": "[encoded data removed]",
      "text/plain": [
       "plot without title"
      ]
     },
     "metadata": {},
     "output_type": "display_data"
    }
   ],
   "source": [
    "ggarrange(pdp_1, pdp_2, pdp_3, pdp_4)"
   ]
  },
  {
   "cell_type": "code",
   "execution_count": 230,
   "metadata": {},
   "outputs": [],
   "source": [
    "pd <- partial(mod_rf_tuned20, pred.var = c(\"Percolate_Input\", \"FoodWaste_Input\"), chull = TRUE)"
   ]
  },
  {
   "cell_type": "code",
   "execution_count": 231,
   "metadata": {},
   "outputs": [],
   "source": [
    "pd2 <- partial(mod_rf_tuned20, pred.var = c(\"MunFecalRes_Input\", \"FoodWaste_Input\"), chull = TRUE)"
   ]
  },
  {
   "cell_type": "code",
   "execution_count": 239,
   "metadata": {},
   "outputs": [
    {
     "data": {},
     "metadata": {},
     "output_type": "display_data"
    },
    {
     "data": {
      "image/png": "[encoded data removed]",
      "text/plain": [
       "plot without title"
      ]
     },
     "metadata": {},
     "output_type": "display_data"
    }
   ],
   "source": [
    "pdp1 <- plotPartial(pd)\n",
    "pdp1"
   ]
  },
  {
   "cell_type": "code",
   "execution_count": 240,
   "metadata": {},
   "outputs": [
    {
     "data": {},
     "metadata": {},
     "output_type": "display_data"
    },
    {
     "data": {
      "image/png": "[encoded data removed]",
      "text/plain": [
       "plot without title"
      ]
     },
     "metadata": {},
     "output_type": "display_data"
    }
   ],
   "source": [
    "pdp2 <- plotPartial(pd2)\n",
    "pdp2"
   ]
  },
  {
   "cell_type": "code",
   "execution_count": 234,
   "metadata": {},
   "outputs": [
    {
     "data": {
      "image/png": "[encoded data removed]",
      "text/plain": [
       "plot without title"
      ]
     },
     "metadata": {},
     "output_type": "display_data"
    }
   ],
   "source": [
    "grid.arrange(pdp1, pdp2)"
   ]
  },
  {
   "cell_type": "code",
   "execution_count": 235,
   "metadata": {},
   "outputs": [
    {
     "data": {},
     "metadata": {},
     "output_type": "display_data"
    },
    {
     "data": {
      "image/png": "[encoded data removed]",
      "text/plain": [
       "plot without title"
      ]
     },
     "metadata": {},
     "output_type": "display_data"
    }
   ],
   "source": [
    "pdp3 <- plotPartial(pd, levelplot = FALSE, zlab = \"Pd\", cex=0.2\n",
    "#                     screen = list(z = -20, x = -60)\n",
    "                   )\n",
    "pdp3"
   ]
  },
  {
   "cell_type": "code",
   "execution_count": 236,
   "metadata": {},
   "outputs": [
    {
     "data": {},
     "metadata": {},
     "output_type": "display_data"
    },
    {
     "data": {
      "image/png": "[encoded data removed]",
      "text/plain": [
       "plot without title"
      ]
     },
     "metadata": {},
     "output_type": "display_data"
    }
   ],
   "source": [
    "pdp4 <- plotPartial(pd2, levelplot = FALSE, zlab = \"Pd\", cex=0.2\n",
    "#                     screen = list(z = -20, x = -60)\n",
    "                   )\n",
    "pdp4"
   ]
  },
  {
   "cell_type": "code",
   "execution_count": null,
   "metadata": {},
   "outputs": [],
   "source": []
  }
 ],
 "metadata": {
  "kernelspec": {
   "display_name": "R",
   "language": "R",
   "name": "ir"
  },
  "language_info": {
   "codemirror_mode": "r",
   "file_extension": ".r",
   "mimetype": "text/x-r-source",
   "name": "R",
   "pygments_lexer": "r",
   "version": "3.4.3"
  }
 },
 "nbformat": 4,
 "nbformat_minor": 2
}
